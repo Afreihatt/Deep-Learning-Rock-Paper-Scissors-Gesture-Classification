{
  "metadata": {
    "kernelspec": {
      "name": "python3",
      "display_name": "Python 3",
      "language": "python"
    },
    "language_info": {
      "name": "python",
      "version": "3.11.11",
      "mimetype": "text/x-python",
      "codemirror_mode": {
        "name": "ipython",
        "version": 3
      },
      "pygments_lexer": "ipython3",
      "nbconvert_exporter": "python",
      "file_extension": ".py"
    },
    "colab": {
      "provenance": [],
      "gpuType": "T4"
    },
    "accelerator": "GPU",
    "kaggle": {
      "accelerator": "gpu",
      "dataSources": [
        {
          "sourceId": 12134012,
          "sourceType": "datasetVersion",
          "datasetId": 7641388
        }
      ],
      "dockerImageVersionId": 31041,
      "isInternetEnabled": true,
      "language": "python",
      "sourceType": "notebook",
      "isGpuEnabled": true
    }
  },
  "nbformat_minor": 0,
  "nbformat": 4,
  "cells": [
    {
      "cell_type": "code",
      "source": [
        "import os\n",
        "import pathlib\n",
        "import zipfile\n",
        "import pandas as pd\n",
        "import numpy as np\n",
        "import matplotlib.pyplot as plt\n",
        "import torch\n",
        "import torchvision.transforms as transforms\n",
        "from torchvision.datasets import ImageFolder\n",
        "from torch.utils.data import DataLoader, random_split\n",
        "import torch.nn as nn\n",
        "import torch.optim as optim\n",
        "from google.colab import files\n",
        "\n",
        "!pip install -q keras-tuner\n",
        "!pip install -q torchsummary\n",
        "\n",
        "import tensorflow as tf\n",
        "from tensorflow import keras\n",
        "from tensorflow.keras import layers\n",
        "from keras_tuner import RandomSearch\n",
        "import matplotlib.pyplot as plt\n",
        "import numpy as np\n"
      ],
      "metadata": {
        "id": "bHqq2p92nCpP",
        "trusted": true,
        "execution": {
          "iopub.status.busy": "2025-06-12T15:36:40.367240Z",
          "iopub.execute_input": "2025-06-12T15:36:40.367856Z",
          "iopub.status.idle": "2025-06-12T15:36:46.919897Z",
          "shell.execute_reply.started": "2025-06-12T15:36:40.367832Z",
          "shell.execute_reply": "2025-06-12T15:36:46.919050Z"
        },
        "colab": {
          "base_uri": "https://localhost:8080/"
        },
        "outputId": "8d99045d-e420-4ad8-9fee-f642c5718cd1"
      },
      "outputs": [
        {
          "output_type": "stream",
          "name": "stdout",
          "text": [
            "\u001b[?25l   \u001b[90m━━━━━━━━━━━━━━━━━━━━━━━━━━━━━━━━━━━━━━━━\u001b[0m \u001b[32m0.0/129.1 kB\u001b[0m \u001b[31m?\u001b[0m eta \u001b[36m-:--:--\u001b[0m\r\u001b[2K   \u001b[90m━━━━━━━━━━━━━━━━━━━━━━━━━━━━━━━━━━━━━━━━\u001b[0m \u001b[32m129.1/129.1 kB\u001b[0m \u001b[31m10.8 MB/s\u001b[0m eta \u001b[36m0:00:00\u001b[0m\n",
            "\u001b[?25h"
          ]
        }
      ],
      "execution_count": 1
    },
    {
      "cell_type": "code",
      "source": [
        "uploaded = files.upload()\n",
        "with zipfile.ZipFile(\"Rock Paper Scissors.zip\", \"r\") as zip_ref:\n",
        "     zip_ref.extractall(\"Data\")"
      ],
      "metadata": {
        "id": "vFTXPOtxyUOl",
        "trusted": true,
        "execution": {
          "iopub.status.busy": "2025-06-12T11:15:25.390130Z",
          "iopub.execute_input": "2025-06-12T11:15:25.390703Z",
          "iopub.status.idle": "2025-06-12T11:15:25.394184Z",
          "shell.execute_reply.started": "2025-06-12T11:15:25.390672Z",
          "shell.execute_reply": "2025-06-12T11:15:25.393371Z"
        },
        "colab": {
          "base_uri": "https://localhost:8080/",
          "height": 73
        },
        "outputId": "5fe7469d-c32b-4c7e-dccd-b47c936fb935"
      },
      "outputs": [
        {
          "output_type": "display_data",
          "data": {
            "text/plain": [
              "<IPython.core.display.HTML object>"
            ],
            "text/html": [
              "\n",
              "     <input type=\"file\" id=\"files-498ef769-2e44-430c-802b-3c12647287ba\" name=\"files[]\" multiple disabled\n",
              "        style=\"border:none\" />\n",
              "     <output id=\"result-498ef769-2e44-430c-802b-3c12647287ba\">\n",
              "      Upload widget is only available when the cell has been executed in the\n",
              "      current browser session. Please rerun this cell to enable.\n",
              "      </output>\n",
              "      <script>// Copyright 2017 Google LLC\n",
              "//\n",
              "// Licensed under the Apache License, Version 2.0 (the \"License\");\n",
              "// you may not use this file except in compliance with the License.\n",
              "// You may obtain a copy of the License at\n",
              "//\n",
              "//      http://www.apache.org/licenses/LICENSE-2.0\n",
              "//\n",
              "// Unless required by applicable law or agreed to in writing, software\n",
              "// distributed under the License is distributed on an \"AS IS\" BASIS,\n",
              "// WITHOUT WARRANTIES OR CONDITIONS OF ANY KIND, either express or implied.\n",
              "// See the License for the specific language governing permissions and\n",
              "// limitations under the License.\n",
              "\n",
              "/**\n",
              " * @fileoverview Helpers for google.colab Python module.\n",
              " */\n",
              "(function(scope) {\n",
              "function span(text, styleAttributes = {}) {\n",
              "  const element = document.createElement('span');\n",
              "  element.textContent = text;\n",
              "  for (const key of Object.keys(styleAttributes)) {\n",
              "    element.style[key] = styleAttributes[key];\n",
              "  }\n",
              "  return element;\n",
              "}\n",
              "\n",
              "// Max number of bytes which will be uploaded at a time.\n",
              "const MAX_PAYLOAD_SIZE = 100 * 1024;\n",
              "\n",
              "function _uploadFiles(inputId, outputId) {\n",
              "  const steps = uploadFilesStep(inputId, outputId);\n",
              "  const outputElement = document.getElementById(outputId);\n",
              "  // Cache steps on the outputElement to make it available for the next call\n",
              "  // to uploadFilesContinue from Python.\n",
              "  outputElement.steps = steps;\n",
              "\n",
              "  return _uploadFilesContinue(outputId);\n",
              "}\n",
              "\n",
              "// This is roughly an async generator (not supported in the browser yet),\n",
              "// where there are multiple asynchronous steps and the Python side is going\n",
              "// to poll for completion of each step.\n",
              "// This uses a Promise to block the python side on completion of each step,\n",
              "// then passes the result of the previous step as the input to the next step.\n",
              "function _uploadFilesContinue(outputId) {\n",
              "  const outputElement = document.getElementById(outputId);\n",
              "  const steps = outputElement.steps;\n",
              "\n",
              "  const next = steps.next(outputElement.lastPromiseValue);\n",
              "  return Promise.resolve(next.value.promise).then((value) => {\n",
              "    // Cache the last promise value to make it available to the next\n",
              "    // step of the generator.\n",
              "    outputElement.lastPromiseValue = value;\n",
              "    return next.value.response;\n",
              "  });\n",
              "}\n",
              "\n",
              "/**\n",
              " * Generator function which is called between each async step of the upload\n",
              " * process.\n",
              " * @param {string} inputId Element ID of the input file picker element.\n",
              " * @param {string} outputId Element ID of the output display.\n",
              " * @return {!Iterable<!Object>} Iterable of next steps.\n",
              " */\n",
              "function* uploadFilesStep(inputId, outputId) {\n",
              "  const inputElement = document.getElementById(inputId);\n",
              "  inputElement.disabled = false;\n",
              "\n",
              "  const outputElement = document.getElementById(outputId);\n",
              "  outputElement.innerHTML = '';\n",
              "\n",
              "  const pickedPromise = new Promise((resolve) => {\n",
              "    inputElement.addEventListener('change', (e) => {\n",
              "      resolve(e.target.files);\n",
              "    });\n",
              "  });\n",
              "\n",
              "  const cancel = document.createElement('button');\n",
              "  inputElement.parentElement.appendChild(cancel);\n",
              "  cancel.textContent = 'Cancel upload';\n",
              "  const cancelPromise = new Promise((resolve) => {\n",
              "    cancel.onclick = () => {\n",
              "      resolve(null);\n",
              "    };\n",
              "  });\n",
              "\n",
              "  // Wait for the user to pick the files.\n",
              "  const files = yield {\n",
              "    promise: Promise.race([pickedPromise, cancelPromise]),\n",
              "    response: {\n",
              "      action: 'starting',\n",
              "    }\n",
              "  };\n",
              "\n",
              "  cancel.remove();\n",
              "\n",
              "  // Disable the input element since further picks are not allowed.\n",
              "  inputElement.disabled = true;\n",
              "\n",
              "  if (!files) {\n",
              "    return {\n",
              "      response: {\n",
              "        action: 'complete',\n",
              "      }\n",
              "    };\n",
              "  }\n",
              "\n",
              "  for (const file of files) {\n",
              "    const li = document.createElement('li');\n",
              "    li.append(span(file.name, {fontWeight: 'bold'}));\n",
              "    li.append(span(\n",
              "        `(${file.type || 'n/a'}) - ${file.size} bytes, ` +\n",
              "        `last modified: ${\n",
              "            file.lastModifiedDate ? file.lastModifiedDate.toLocaleDateString() :\n",
              "                                    'n/a'} - `));\n",
              "    const percent = span('0% done');\n",
              "    li.appendChild(percent);\n",
              "\n",
              "    outputElement.appendChild(li);\n",
              "\n",
              "    const fileDataPromise = new Promise((resolve) => {\n",
              "      const reader = new FileReader();\n",
              "      reader.onload = (e) => {\n",
              "        resolve(e.target.result);\n",
              "      };\n",
              "      reader.readAsArrayBuffer(file);\n",
              "    });\n",
              "    // Wait for the data to be ready.\n",
              "    let fileData = yield {\n",
              "      promise: fileDataPromise,\n",
              "      response: {\n",
              "        action: 'continue',\n",
              "      }\n",
              "    };\n",
              "\n",
              "    // Use a chunked sending to avoid message size limits. See b/62115660.\n",
              "    let position = 0;\n",
              "    do {\n",
              "      const length = Math.min(fileData.byteLength - position, MAX_PAYLOAD_SIZE);\n",
              "      const chunk = new Uint8Array(fileData, position, length);\n",
              "      position += length;\n",
              "\n",
              "      const base64 = btoa(String.fromCharCode.apply(null, chunk));\n",
              "      yield {\n",
              "        response: {\n",
              "          action: 'append',\n",
              "          file: file.name,\n",
              "          data: base64,\n",
              "        },\n",
              "      };\n",
              "\n",
              "      let percentDone = fileData.byteLength === 0 ?\n",
              "          100 :\n",
              "          Math.round((position / fileData.byteLength) * 100);\n",
              "      percent.textContent = `${percentDone}% done`;\n",
              "\n",
              "    } while (position < fileData.byteLength);\n",
              "  }\n",
              "\n",
              "  // All done.\n",
              "  yield {\n",
              "    response: {\n",
              "      action: 'complete',\n",
              "    }\n",
              "  };\n",
              "}\n",
              "\n",
              "scope.google = scope.google || {};\n",
              "scope.google.colab = scope.google.colab || {};\n",
              "scope.google.colab._files = {\n",
              "  _uploadFiles,\n",
              "  _uploadFilesContinue,\n",
              "};\n",
              "})(self);\n",
              "</script> "
            ]
          },
          "metadata": {}
        },
        {
          "output_type": "stream",
          "name": "stdout",
          "text": [
            "Saving Rock Paper Scissors.zip to Rock Paper Scissors (1).zip\n"
          ]
        }
      ],
      "execution_count": 2
    },
    {
      "cell_type": "code",
      "source": [
        "data_directory = pathlib.Path('/content/Data')\n",
        "# #reverse folder order\n",
        "class_names = [item.name for item in data_directory.glob('*')][:3][::-1]\n",
        "print(class_names)"
      ],
      "metadata": {
        "colab": {
          "base_uri": "https://localhost:8080/"
        },
        "id": "u6Ly1oQyyG2T",
        "outputId": "b377e68d-938b-47a0-d02a-f65078f6df54",
        "trusted": true,
        "execution": {
          "iopub.status.busy": "2025-06-12T11:15:25.655028Z",
          "iopub.execute_input": "2025-06-12T11:15:25.655705Z",
          "iopub.status.idle": "2025-06-12T11:15:25.658850Z",
          "shell.execute_reply.started": "2025-06-12T11:15:25.655683Z",
          "shell.execute_reply": "2025-06-12T11:15:25.657991Z"
        }
      },
      "outputs": [
        {
          "output_type": "stream",
          "name": "stdout",
          "text": [
            "['paper', 'scissors', 'rock']\n"
          ]
        }
      ],
      "execution_count": 3
    },
    {
      "cell_type": "code",
      "source": [
        "paper = '/content/Data/paper'\n",
        "rock = '/content/Data/rock'\n",
        "scissors = '/content/Data/scissors'\n",
        "data_dir = '/content/Data'"
      ],
      "metadata": {
        "id": "W-JAXGZRgbOh",
        "trusted": true,
        "execution": {
          "iopub.status.busy": "2025-06-12T11:15:25.925204Z",
          "iopub.execute_input": "2025-06-12T11:15:25.925492Z",
          "iopub.status.idle": "2025-06-12T11:15:25.929492Z",
          "shell.execute_reply.started": "2025-06-12T11:15:25.925469Z",
          "shell.execute_reply": "2025-06-12T11:15:25.928754Z"
        }
      },
      "outputs": [],
      "execution_count": 4
    },
    {
      "cell_type": "code",
      "source": [
        "print(f'Number of paper images: {len(os.listdir(paper))}')\n",
        "print(f'Number of rock images: {len(os.listdir(rock))}')\n",
        "print(f'Number of scissors images: {len(os.listdir(scissors))}')"
      ],
      "metadata": {
        "colab": {
          "base_uri": "https://localhost:8080/"
        },
        "id": "SQJkRWvAgxBw",
        "outputId": "e49373de-0d64-4c15-ee07-0d14fa832c5a",
        "trusted": true,
        "execution": {
          "iopub.status.busy": "2025-06-12T11:15:27.458156Z",
          "iopub.execute_input": "2025-06-12T11:15:27.458716Z",
          "iopub.status.idle": "2025-06-12T11:15:27.830361Z",
          "shell.execute_reply.started": "2025-06-12T11:15:27.458691Z",
          "shell.execute_reply": "2025-06-12T11:15:27.829582Z"
        }
      },
      "outputs": [
        {
          "output_type": "stream",
          "name": "stdout",
          "text": [
            "Number of paper images: 975\n",
            "Number of rock images: 975\n",
            "Number of scissors images: 975\n"
          ]
        }
      ],
      "execution_count": 5
    },
    {
      "cell_type": "code",
      "source": [
        "import os\n",
        "import shutil\n",
        "import random\n",
        "from pathlib import Path\n",
        "\n",
        "\n",
        "data_dir = '/content/Data'\n",
        "output_dir = '/content/Data_split'\n",
        "categories = ['rock', 'paper', 'scissors']\n",
        "\n",
        "\n",
        "train_ratio = 0.7\n",
        "val_ratio = 0.15\n",
        "test_ratio = 0.15\n",
        "\n",
        "\n",
        "for split in ['train', 'val', 'test']:\n",
        "    for category in categories:\n",
        "        Path(f'{output_dir}/{split}/{category}').mkdir(parents=True, exist_ok=True)\n",
        "\n",
        "\n",
        "for category in categories:\n",
        "    files = os.listdir(f'{data_dir}/{category}')\n",
        "    files = [f for f in files if f.endswith('.jpg')]\n",
        "    random.shuffle(files)\n",
        "\n",
        "    total = len(files)\n",
        "    train_end = int(total * train_ratio)\n",
        "    val_end = train_end + int(total * val_ratio)\n",
        "\n",
        "    split_files = {\n",
        "        'train': files[:train_end],\n",
        "        'val': files[train_end:val_end],\n",
        "        'test': files[val_end:]\n",
        "    }\n",
        "\n",
        "    for split, split_list in split_files.items():\n",
        "        for file in split_list:\n",
        "            src = f'{data_dir}/{category}/{file}'\n",
        "            dst = f'{output_dir}/{split}/{category}/{file}'\n",
        "            shutil.copy(src, dst)\n",
        "\n",
        "print(\"Dataset split complete and saved to /content/Data_split\")\n"
      ],
      "metadata": {
        "colab": {
          "base_uri": "https://localhost:8080/"
        },
        "id": "zK_2oEbUA93d",
        "outputId": "d441b52b-9de1-49bb-81b5-6be11dc60ec6",
        "trusted": true,
        "execution": {
          "iopub.status.busy": "2025-06-12T11:15:27.831717Z",
          "iopub.execute_input": "2025-06-12T11:15:27.831982Z",
          "iopub.status.idle": "2025-06-12T11:15:38.965169Z",
          "shell.execute_reply.started": "2025-06-12T11:15:27.831963Z",
          "shell.execute_reply": "2025-06-12T11:15:38.964343Z"
        }
      },
      "outputs": [
        {
          "output_type": "stream",
          "name": "stdout",
          "text": [
            "Dataset split complete and saved to /content/Data_split\n"
          ]
        }
      ],
      "execution_count": 6
    },
    {
      "cell_type": "code",
      "source": [
        "\n",
        "image_size_tuple = (224, 224)\n",
        "\n",
        "\n",
        "transform = transforms.Compose([\n",
        "    transforms.Resize(image_size_tuple),\n",
        "    transforms.ToTensor(),\n",
        "    transforms.Normalize(mean=[0.485, 0.456, 0.406], std=[0.229, 0.224, 0.225])\n",
        "])"
      ],
      "metadata": {
        "id": "FCsuccXUCg0H",
        "trusted": true,
        "execution": {
          "iopub.status.busy": "2025-06-12T11:15:38.966449Z",
          "iopub.execute_input": "2025-06-12T11:15:38.966764Z",
          "iopub.status.idle": "2025-06-12T11:15:38.973387Z",
          "shell.execute_reply.started": "2025-06-12T11:15:38.966740Z",
          "shell.execute_reply": "2025-06-12T11:15:38.972681Z"
        }
      },
      "outputs": [],
      "execution_count": 7
    },
    {
      "cell_type": "code",
      "source": [
        "train_dataset = ImageFolder(os.path.join(output_dir, 'train'), transform=transform)\n",
        "val_dataset = ImageFolder(os.path.join(output_dir, 'val'), transform=transform)\n",
        "test_dataset = ImageFolder(os.path.join(output_dir, 'test'), transform=transform)"
      ],
      "metadata": {
        "id": "uPgUzAnS9WK_",
        "trusted": true,
        "execution": {
          "iopub.status.busy": "2025-06-12T11:15:45.306843Z",
          "iopub.execute_input": "2025-06-12T11:15:45.307442Z",
          "iopub.status.idle": "2025-06-12T11:15:45.322760Z",
          "shell.execute_reply.started": "2025-06-12T11:15:45.307410Z",
          "shell.execute_reply": "2025-06-12T11:15:45.321933Z"
        }
      },
      "outputs": [],
      "execution_count": 8
    },
    {
      "cell_type": "code",
      "source": [
        "batch_size = 32\n",
        "\n",
        "\n",
        "train_loader = DataLoader(train_dataset, batch_size=batch_size, shuffle=True)\n",
        "val_loader = DataLoader(val_dataset, batch_size=batch_size)\n",
        "test_loader = DataLoader(test_dataset, batch_size=batch_size, shuffle=False)\n",
        "\n",
        "\n",
        "print(\"Data loaders created successfully!\")\n",
        "print(f'Size of training dataset: {len(train_dataset)}')\n",
        "print(f'Size of validation dataset: {len(val_dataset)}')\n",
        "print(f'Number of batches in training loader: {len(train_loader)}')"
      ],
      "metadata": {
        "colab": {
          "base_uri": "https://localhost:8080/"
        },
        "id": "zZlvxAI98TCI",
        "outputId": "f2be1587-b8d5-4f34-ae0b-db5becf11a86",
        "trusted": true,
        "execution": {
          "iopub.status.busy": "2025-06-12T11:15:47.481776Z",
          "iopub.execute_input": "2025-06-12T11:15:47.482016Z",
          "iopub.status.idle": "2025-06-12T11:15:47.487496Z",
          "shell.execute_reply.started": "2025-06-12T11:15:47.482001Z",
          "shell.execute_reply": "2025-06-12T11:15:47.486754Z"
        }
      },
      "outputs": [
        {
          "output_type": "stream",
          "name": "stdout",
          "text": [
            "Data loaders created successfully!\n",
            "Size of training dataset: 2046\n",
            "Size of validation dataset: 438\n",
            "Number of batches in training loader: 64\n"
          ]
        }
      ],
      "execution_count": 9
    },
    {
      "cell_type": "markdown",
      "source": [
        "# **Simple CNN**"
      ],
      "metadata": {
        "id": "0jNPn5Bw6OE2"
      }
    },
    {
      "cell_type": "code",
      "source": [
        "# Check if a GPU is available and set the device\n",
        "device = torch.device(\"cuda\" if torch.cuda.is_available() else \"cpu\")\n",
        "print(f\"Using device: {device}\")\n",
        "\n",
        "\n",
        "def train_and_validate(model, train_loader, val_loader, optimizer, criterion, epochs):\n",
        "    \"\"\"\n",
        "    Function to handle the training and validation loop.\n",
        "    \"\"\"\n",
        "\n",
        "    model.to(device)\n",
        "\n",
        "\n",
        "    history = {\n",
        "        'train_loss': [],\n",
        "        'train_acc': [],\n",
        "        'val_loss': [],\n",
        "        'val_acc': []\n",
        "    }\n",
        "\n",
        "    start_time = time.time()\n",
        "\n",
        "    for epoch in range(epochs):\n",
        "        model.train()\n",
        "        running_loss = 0.0\n",
        "        correct_predictions = 0\n",
        "        total_predictions = 0\n",
        "\n",
        "        for i, (inputs, labels) in enumerate(train_loader):\n",
        "            inputs, labels = inputs.to(device), labels.to(device)\n",
        "\n",
        "            optimizer.zero_grad()\n",
        "            outputs = model(inputs)\n",
        "            loss = criterion(outputs, labels)\n",
        "            loss.backward()\n",
        "            optimizer.step()\n",
        "\n",
        "            running_loss += loss.item() * inputs.size(0)\n",
        "            _, predicted = torch.max(outputs.data, 1)\n",
        "            total_predictions += labels.size(0)\n",
        "            correct_predictions += (predicted == labels).sum().item()\n",
        "\n",
        "        epoch_loss = running_loss / len(train_loader.dataset)\n",
        "        epoch_acc = correct_predictions / total_predictions\n",
        "        history['train_loss'].append(epoch_loss)\n",
        "        history['train_acc'].append(epoch_acc)\n",
        "\n",
        "        model.eval()\n",
        "        val_running_loss = 0.0\n",
        "        val_correct_predictions = 0\n",
        "        val_total_predictions = 0\n",
        "        with torch.no_grad():\n",
        "            for inputs, labels in val_loader:\n",
        "                inputs, labels = inputs.to(device), labels.to(device)\n",
        "                outputs = model(inputs)\n",
        "                loss = criterion(outputs, labels)\n",
        "                val_running_loss += loss.item() * inputs.size(0)\n",
        "                _, predicted = torch.max(outputs.data, 1)\n",
        "                val_total_predictions += labels.size(0)\n",
        "                val_correct_predictions += (predicted == labels).sum().item()\n",
        "\n",
        "        val_epoch_loss = val_running_loss / len(val_loader.dataset)\n",
        "        val_epoch_acc = val_correct_predictions / val_total_predictions\n",
        "        history['val_loss'].append(val_epoch_loss)\n",
        "        history['val_acc'].append(val_epoch_acc)\n",
        "\n",
        "        print(f'Epoch {epoch+1}/{epochs} | Train Loss: {epoch_loss:.4f} | Train Acc: {epoch_acc:.4f} | Val Loss: {val_epoch_loss:.4f} | Val Acc: {val_epoch_acc:.4f}')\n",
        "\n",
        "    end_time = time.time()\n",
        "    print(f'Finished Training. Total time: {(end_time - start_time)/60:.2f} minutes')\n",
        "    return history"
      ],
      "metadata": {
        "colab": {
          "base_uri": "https://localhost:8080/"
        },
        "id": "P4d6zuNF7Og2",
        "outputId": "3a3c7f6b-769d-439a-83d0-da651e33155d",
        "trusted": true,
        "execution": {
          "iopub.status.busy": "2025-06-12T14:26:37.254665Z",
          "iopub.execute_input": "2025-06-12T14:26:37.254961Z",
          "iopub.status.idle": "2025-06-12T14:26:37.265548Z",
          "shell.execute_reply.started": "2025-06-12T14:26:37.254938Z",
          "shell.execute_reply": "2025-06-12T14:26:37.264981Z"
        }
      },
      "outputs": [
        {
          "output_type": "stream",
          "name": "stdout",
          "text": [
            "Using device: cuda\n"
          ]
        }
      ],
      "execution_count": 10
    },
    {
      "cell_type": "code",
      "source": [
        "import torch\n",
        "import torch.nn as nn\n",
        "import torch.optim as optim\n",
        "import matplotlib.pyplot as plt\n",
        "import time\n",
        "\n",
        "device = torch.device(\"cuda\" if torch.cuda.is_available() else \"cpu\")\n",
        "print(f\"Using device: {device}\")\n",
        "\n",
        "class CustomCNNModel(nn.Module):\n",
        "    def __init__(self):\n",
        "        super(CustomCNNModel, self).__init__()\n",
        "        self.features = nn.Sequential(\n",
        "            nn.Conv2d(in_channels=3, out_channels=10, kernel_size=2),\n",
        "            nn.ReLU(),\n",
        "            nn.MaxPool2d(kernel_size=2),\n",
        "\n",
        "            nn.Conv2d(in_channels=10, out_channels=32, kernel_size=2),\n",
        "            nn.ReLU(),\n",
        "            nn.MaxPool2d(kernel_size=2),\n",
        "\n",
        "            nn.Conv2d(in_channels=32, out_channels=64, kernel_size=2),\n",
        "            nn.ReLU(),\n",
        "            nn.MaxPool2d(kernel_size=2)\n",
        "        )\n",
        "\n",
        "        with torch.no_grad():\n",
        "            dummy = torch.zeros(1, 3, 224, 224)\n",
        "            dummy_out = self.features(dummy)\n",
        "            self.flattened_size = dummy_out.view(1, -1).shape[1]\n",
        "\n",
        "        self.classifier = nn.Sequential(\n",
        "            nn.Flatten(),\n",
        "            nn.Linear(self.flattened_size, 128),\n",
        "            nn.ReLU(),\n",
        "            nn.Dropout(0.5),\n",
        "            nn.Linear(128, 3)\n",
        "        )\n",
        "\n",
        "    def forward(self, x):\n",
        "        x = self.features(x)\n",
        "        x = self.classifier(x)\n",
        "        return x"
      ],
      "metadata": {
        "colab": {
          "base_uri": "https://localhost:8080/"
        },
        "id": "RQS1Qja36SMl",
        "outputId": "390d31da-fd2f-46af-c3ee-dbd5546010fc",
        "trusted": true,
        "execution": {
          "iopub.status.busy": "2025-06-12T14:27:07.341879Z",
          "iopub.execute_input": "2025-06-12T14:27:07.342147Z",
          "iopub.status.idle": "2025-06-12T14:27:07.350124Z",
          "shell.execute_reply.started": "2025-06-12T14:27:07.342129Z",
          "shell.execute_reply": "2025-06-12T14:27:07.349588Z"
        }
      },
      "outputs": [
        {
          "output_type": "stream",
          "name": "stdout",
          "text": [
            "Using device: cuda\n"
          ]
        }
      ],
      "execution_count": 11
    },
    {
      "cell_type": "code",
      "source": [
        "def evaluate_on_test_set(model, loader, criterion):\n",
        "    model.eval()\n",
        "    model.to(device)\n",
        "    running_loss, correct_predictions, total_predictions = 0.0, 0, 0\n",
        "    with torch.no_grad():\n",
        "        for inputs, labels in loader:\n",
        "            inputs, labels = inputs.to(device), labels.to(device)\n",
        "            outputs = model(inputs)\n",
        "            loss = criterion(outputs, labels)\n",
        "            running_loss += loss.item() * inputs.size(0)\n",
        "            _, predicted = torch.max(outputs.data, 1)\n",
        "            total_predictions += labels.size(0)\n",
        "            correct_predictions += (predicted == labels).sum().item()\n",
        "    final_loss = running_loss / len(loader.dataset)\n",
        "    final_acc = correct_predictions / total_predictions\n",
        "    return final_loss, final_acc"
      ],
      "metadata": {
        "id": "0EeAUsarUfQJ",
        "trusted": true,
        "execution": {
          "iopub.status.busy": "2025-06-12T14:27:10.668746Z",
          "iopub.execute_input": "2025-06-12T14:27:10.668983Z",
          "iopub.status.idle": "2025-06-12T14:27:10.674691Z",
          "shell.execute_reply.started": "2025-06-12T14:27:10.668967Z",
          "shell.execute_reply": "2025-06-12T14:27:10.673856Z"
        }
      },
      "outputs": [],
      "execution_count": 12
    },
    {
      "cell_type": "code",
      "source": [
        "# --- PLOTTING FUNCTION ---\n",
        "def plot_curves(history, model_name):\n",
        "    # Plotting Loss\n",
        "    plt.figure(figsize=(14, 5))\n",
        "    plt.subplot(1, 2, 1)\n",
        "    plt.plot(history['train_loss'], label='Training Loss')\n",
        "    plt.plot(history['val_loss'], label='Validation Loss')\n",
        "    plt.title(f'{model_name} - Loss Curves')\n",
        "    plt.xlabel('Epochs')\n",
        "    plt.ylabel('Loss')\n",
        "    plt.legend()\n",
        "    plt.grid(True)\n",
        "\n",
        "    # Plotting Accuracy\n",
        "    plt.subplot(1, 2, 2)\n",
        "    plt.plot(history['train_acc'], label='Training Accuracy')\n",
        "    plt.plot(history['val_acc'], label='Validation Accuracy')\n",
        "    plt.title(f'{model_name} - Accuracy Curves')\n",
        "    plt.xlabel('Epochs')\n",
        "    plt.ylabel('Accuracy')\n",
        "    plt.legend()\n",
        "    plt.grid(True)\n",
        "\n",
        "    plt.tight_layout()\n",
        "    plt.show()"
      ],
      "metadata": {
        "id": "pKwbJ8FkF-5-",
        "trusted": true,
        "execution": {
          "iopub.status.busy": "2025-06-12T14:27:11.961928Z",
          "iopub.execute_input": "2025-06-12T14:27:11.962189Z",
          "iopub.status.idle": "2025-06-12T14:27:11.967909Z",
          "shell.execute_reply.started": "2025-06-12T14:27:11.962170Z",
          "shell.execute_reply": "2025-06-12T14:27:11.967198Z"
        }
      },
      "outputs": [],
      "execution_count": 13
    },
    {
      "cell_type": "code",
      "source": [
        "print(\"Training the new Custom CNN Model...\")\n",
        "\n",
        "custom_model = CustomCNNModel()\n",
        "\n",
        "learning_rate = 0.000001\n",
        "weight_decay = 0.01\n",
        "num_epochs =5\n",
        "\n",
        "optimizer = optim.Adam(custom_model.parameters(), lr=learning_rate, weight_decay=weight_decay)\n",
        "criterion = nn.CrossEntropyLoss()\n",
        "\n",
        "custom_model_history = train_and_validate(custom_model, train_loader, val_loader, optimizer, criterion, num_epochs)\n",
        "\n",
        "print(\"\\nPlotting results for the Custom CNN Model...\")\n",
        "\n",
        "final_val_acc = custom_model_history['val_acc'][-1]\n",
        "print(f\"Final Validation Accuracy for the Custom CNN Model: {final_val_acc:.4f}\")"
      ],
      "metadata": {
        "colab": {
          "base_uri": "https://localhost:8080/"
        },
        "id": "XqhpR43n6tcT",
        "outputId": "a06e2dfc-3bef-4538-b833-1f6c0f8f693c",
        "trusted": true,
        "execution": {
          "iopub.status.busy": "2025-06-12T14:27:13.136718Z",
          "iopub.execute_input": "2025-06-12T14:27:13.137425Z",
          "iopub.status.idle": "2025-06-12T14:27:48.066894Z",
          "shell.execute_reply.started": "2025-06-12T14:27:13.137385Z",
          "shell.execute_reply": "2025-06-12T14:27:48.066031Z"
        }
      },
      "outputs": [
        {
          "output_type": "stream",
          "name": "stdout",
          "text": [
            "Training the new Custom CNN Model...\n",
            "Epoch 1/5 | Train Loss: 1.0957 | Train Acc: 0.3573 | Val Loss: 1.0887 | Val Acc: 0.4589\n",
            "Epoch 2/5 | Train Loss: 1.0856 | Train Acc: 0.4365 | Val Loss: 1.0802 | Val Acc: 0.5183\n",
            "Epoch 3/5 | Train Loss: 1.0765 | Train Acc: 0.4995 | Val Loss: 1.0713 | Val Acc: 0.6027\n",
            "Epoch 4/5 | Train Loss: 1.0676 | Train Acc: 0.5391 | Val Loss: 1.0619 | Val Acc: 0.6210\n",
            "Epoch 5/5 | Train Loss: 1.0609 | Train Acc: 0.5357 | Val Loss: 1.0526 | Val Acc: 0.5913\n",
            "Finished Training. Total time: 0.74 minutes\n",
            "\n",
            "Plotting results for the Custom CNN Model...\n",
            "Final Validation Accuracy for the Custom CNN Model: 0.5913\n"
          ]
        }
      ],
      "execution_count": 14
    },
    {
      "cell_type": "code",
      "source": [
        "print(\"Training the new Custom CNN Model...\")\n",
        "\n",
        "custom_model = CustomCNNModel()\n",
        "\n",
        "learning_rate = 0.00001\n",
        "weight_decay = 0.001\n",
        "num_epochs =5\n",
        "\n",
        "optimizer = optim.Adam(custom_model.parameters(), lr=learning_rate, weight_decay=weight_decay)\n",
        "criterion = nn.CrossEntropyLoss()\n",
        "\n",
        "custom_model_history = train_and_validate(custom_model, train_loader, val_loader, optimizer, criterion, num_epochs)\n",
        "\n",
        "print(\"\\nPlotting results for the Custom CNN Model...\")\n",
        "plot_curves(custom_model_history, \"Custom CNN\")\n",
        "\n",
        "final_val_acc = custom_model_history['val_acc'][-1]\n",
        "print(f\"Final Validation Accuracy for the Custom CNN Model: {final_val_acc:.4f}\")"
      ],
      "metadata": {
        "id": "qSNScQ0EFUEt",
        "trusted": true,
        "execution": {
          "iopub.status.busy": "2025-06-12T14:31:07.196317Z",
          "iopub.execute_input": "2025-06-12T14:31:07.196680Z",
          "iopub.status.idle": "2025-06-12T14:31:42.018952Z",
          "shell.execute_reply.started": "2025-06-12T14:31:07.196655Z",
          "shell.execute_reply": "2025-06-12T14:31:42.018268Z"
        },
        "colab": {
          "base_uri": "https://localhost:8080/",
          "height": 681
        },
        "outputId": "4d48a9c9-1e78-4622-a14d-52fabd8a5ca6"
      },
      "outputs": [
        {
          "output_type": "stream",
          "name": "stdout",
          "text": [
            "Training the new Custom CNN Model...\n",
            "Epoch 1/5 | Train Loss: 1.0712 | Train Acc: 0.4306 | Val Loss: 1.0308 | Val Acc: 0.5799\n",
            "Epoch 2/5 | Train Loss: 1.0011 | Train Acc: 0.6036 | Val Loss: 0.9466 | Val Acc: 0.7854\n",
            "Epoch 3/5 | Train Loss: 0.9147 | Train Acc: 0.7077 | Val Loss: 0.8560 | Val Acc: 0.7831\n",
            "Epoch 4/5 | Train Loss: 0.8255 | Train Acc: 0.7625 | Val Loss: 0.7612 | Val Acc: 0.8425\n",
            "Epoch 5/5 | Train Loss: 0.7416 | Train Acc: 0.8162 | Val Loss: 0.6695 | Val Acc: 0.8973\n",
            "Finished Training. Total time: 0.72 minutes\n",
            "\n",
            "Plotting results for the Custom CNN Model...\n"
          ]
        },
        {
          "output_type": "display_data",
          "data": {
            "text/plain": [
              "<Figure size 1400x500 with 2 Axes>"
            ],
            "image/png": "[encoded data removed]"
          },
          "metadata": {}
        },
        {
          "output_type": "stream",
          "name": "stdout",
          "text": [
            "Final Validation Accuracy for the Custom CNN Model: 0.8973\n"
          ]
        }
      ],
      "execution_count": 15
    },
    {
      "cell_type": "code",
      "source": [
        "print(\"Training the new Custom CNN Model...\")\n",
        "\n",
        "custom_model = CustomCNNModel()\n",
        "\n",
        "learning_rate = 0.000001\n",
        "weight_decay = 0.003\n",
        "num_epochs =5\n",
        "\n",
        "optimizer = optim.Adam(custom_model.parameters(), lr=learning_rate, weight_decay=weight_decay)\n",
        "criterion = nn.CrossEntropyLoss()\n",
        "\n",
        "custom_model_history = train_and_validate(custom_model, train_loader, val_loader, optimizer, criterion, num_epochs)\n",
        "\n",
        "print(\"\\nPlotting results for the Custom CNN Model...\")\n",
        "\n",
        "final_val_acc = custom_model_history['val_acc'][-1]\n",
        "print(f\"Final Validation Accuracy for the Custom CNN Model: {final_val_acc:.4f}\")"
      ],
      "metadata": {
        "id": "RJoj0MnR6dpF",
        "trusted": true,
        "execution": {
          "iopub.status.busy": "2025-06-12T14:31:42.019869Z",
          "iopub.execute_input": "2025-06-12T14:31:42.020150Z",
          "iopub.status.idle": "2025-06-12T14:32:17.064931Z",
          "shell.execute_reply.started": "2025-06-12T14:31:42.020125Z",
          "shell.execute_reply": "2025-06-12T14:32:17.064201Z"
        },
        "colab": {
          "base_uri": "https://localhost:8080/"
        },
        "outputId": "315bf061-493b-4382-d9bc-a0be04a304a0"
      },
      "outputs": [
        {
          "output_type": "stream",
          "name": "stdout",
          "text": [
            "Training the new Custom CNN Model...\n",
            "Epoch 1/5 | Train Loss: 1.0956 | Train Acc: 0.4071 | Val Loss: 1.0934 | Val Acc: 0.6461\n",
            "Epoch 2/5 | Train Loss: 1.0917 | Train Acc: 0.4418 | Val Loss: 1.0892 | Val Acc: 0.5434\n",
            "Epoch 3/5 | Train Loss: 1.0877 | Train Acc: 0.4936 | Val Loss: 1.0849 | Val Acc: 0.5548\n",
            "Epoch 4/5 | Train Loss: 1.0830 | Train Acc: 0.5117 | Val Loss: 1.0803 | Val Acc: 0.6347\n",
            "Epoch 5/5 | Train Loss: 1.0776 | Train Acc: 0.6119 | Val Loss: 1.0754 | Val Acc: 0.6872\n",
            "Finished Training. Total time: 0.72 minutes\n",
            "\n",
            "Plotting results for the Custom CNN Model...\n",
            "Final Validation Accuracy for the Custom CNN Model: 0.6872\n"
          ]
        }
      ],
      "execution_count": 16
    },
    {
      "cell_type": "code",
      "source": [
        "import torch\n",
        "import torch.nn as nn\n",
        "import torch.optim as optim\n",
        "import matplotlib.pyplot as plt\n",
        "import time\n",
        "\n",
        "\n",
        "print(\"--- Training Final Simple CNN Model ---\")\n",
        "\n",
        "learning_rate = 0.00001\n",
        "weight_decay = 0.001\n",
        "num_epochs =5\n",
        "final_model = CustomCNNModel()\n",
        "\n",
        "optimizer = optim.Adam(final_model.parameters(), lr=learning_rate, weight_decay=weight_decay)\n",
        "criterion = nn.CrossEntropyLoss()\n",
        "\n",
        "training_history = train_and_validate(final_model, train_loader, val_loader, optimizer, criterion, num_epochs)\n",
        "\n",
        "\n",
        "print(\"\\n--- Evaluating Final Model on Test Data ---\")\n",
        "\n",
        "\n",
        "test_loss, test_accuracy = evaluate_on_test_set(final_model, test_loader, criterion)\n",
        "\n",
        "print(f\"\\n--- Final Test Results ---\")\n",
        "print(f\"Test Loss: {test_loss:.4f}\")\n",
        "print(f\"Test Accuracy: {test_accuracy * 100:.2f}%\")"
      ],
      "metadata": {
        "id": "xqW2QPhlRMoE",
        "trusted": true,
        "execution": {
          "iopub.status.busy": "2025-06-12T14:59:19.388370Z",
          "iopub.execute_input": "2025-06-12T14:59:19.389090Z",
          "iopub.status.idle": "2025-06-12T14:59:55.764112Z",
          "shell.execute_reply.started": "2025-06-12T14:59:19.389065Z",
          "shell.execute_reply": "2025-06-12T14:59:55.763341Z"
        },
        "colab": {
          "base_uri": "https://localhost:8080/"
        },
        "outputId": "44d9809e-bdca-4c19-d7d9-62086f989007"
      },
      "outputs": [
        {
          "output_type": "stream",
          "name": "stdout",
          "text": [
            "--- Training Final Simple CNN Model ---\n",
            "Epoch 1/5 | Train Loss: 1.0862 | Train Acc: 0.4291 | Val Loss: 1.0678 | Val Acc: 0.4566\n",
            "Epoch 2/5 | Train Loss: 1.0489 | Train Acc: 0.5450 | Val Loss: 1.0170 | Val Acc: 0.7078\n",
            "Epoch 3/5 | Train Loss: 0.9940 | Train Acc: 0.6540 | Val Loss: 0.9566 | Val Acc: 0.8014\n",
            "Epoch 4/5 | Train Loss: 0.9362 | Train Acc: 0.6823 | Val Loss: 0.8856 | Val Acc: 0.7329\n",
            "Epoch 5/5 | Train Loss: 0.8633 | Train Acc: 0.7537 | Val Loss: 0.8074 | Val Acc: 0.7808\n",
            "Finished Training. Total time: 0.72 minutes\n",
            "\n",
            "--- Evaluating Final Model on Test Data ---\n",
            "\n",
            "--- Final Test Results ---\n",
            "Test Loss: 0.8098\n",
            "Test Accuracy: 80.05%\n"
          ]
        }
      ],
      "execution_count": 17
    },
    {
      "cell_type": "code",
      "source": [
        "import torch\n",
        "import numpy as np\n",
        "from sklearn.metrics import classification_report\n",
        "\n",
        "all_preds = []\n",
        "all_labels = []\n",
        "\n",
        "final_model.eval()\n",
        "final_model.to(device)\n",
        "\n",
        "with torch.no_grad():\n",
        "    for inputs, labels in test_loader:\n",
        "        inputs, labels = inputs.to(device), labels.to(device)\n",
        "\n",
        "        outputs = final_model(inputs)\n",
        "        _, predicted = torch.max(outputs, 1)\n",
        "\n",
        "        all_preds.extend(predicted.cpu().numpy())\n",
        "        all_labels.extend(labels.cpu().numpy())\n",
        "\n",
        "class_names = test_loader.dataset.classes\n",
        "\n",
        "print(\"--- Classification Report ---\")\n",
        "print(classification_report(all_labels, all_preds, target_names=class_names))"
      ],
      "metadata": {
        "trusted": true,
        "execution": {
          "iopub.status.busy": "2025-06-12T15:00:45.342727Z",
          "iopub.execute_input": "2025-06-12T15:00:45.343337Z",
          "iopub.status.idle": "2025-06-12T15:00:46.443477Z",
          "shell.execute_reply.started": "2025-06-12T15:00:45.343312Z",
          "shell.execute_reply": "2025-06-12T15:00:46.442651Z"
        },
        "id": "OOCiBt4D3Mot",
        "colab": {
          "base_uri": "https://localhost:8080/"
        },
        "outputId": "3a84bbcf-4166-4f88-d5fa-e5cc1ae3db82"
      },
      "outputs": [
        {
          "output_type": "stream",
          "name": "stdout",
          "text": [
            "--- Classification Report ---\n",
            "              precision    recall  f1-score   support\n",
            "\n",
            "       paper       0.82      0.82      0.82       147\n",
            "        rock       0.96      0.65      0.78       147\n",
            "    scissors       0.70      0.93      0.80       147\n",
            "\n",
            "    accuracy                           0.80       441\n",
            "   macro avg       0.83      0.80      0.80       441\n",
            "weighted avg       0.83      0.80      0.80       441\n",
            "\n"
          ]
        }
      ],
      "execution_count": 18
    },
    {
      "cell_type": "code",
      "source": [
        "import seaborn as sns\n",
        "import matplotlib.pyplot as plt\n",
        "from sklearn.metrics import confusion_matrix\n",
        "\n",
        "cm = confusion_matrix(all_labels, all_preds)\n",
        "\n",
        "plt.figure(figsize=(8, 6))\n",
        "sns.heatmap(cm, annot=True, fmt='d', cmap='Blues',\n",
        "            xticklabels=class_names, yticklabels=class_names)\n",
        "\n",
        "plt.title('Confusion Matrix')\n",
        "plt.ylabel('Actual Label')\n",
        "plt.xlabel('Predicted Label')\n",
        "plt.show()"
      ],
      "metadata": {
        "trusted": true,
        "execution": {
          "iopub.status.busy": "2025-06-12T15:00:48.149092Z",
          "iopub.execute_input": "2025-06-12T15:00:48.149863Z",
          "iopub.status.idle": "2025-06-12T15:00:48.333878Z",
          "shell.execute_reply.started": "2025-06-12T15:00:48.149837Z",
          "shell.execute_reply": "2025-06-12T15:00:48.333072Z"
        },
        "id": "K4ZdIFuY3Mou",
        "colab": {
          "base_uri": "https://localhost:8080/",
          "height": 564
        },
        "outputId": "cfdd20a5-796c-470b-ba36-7b68eac46f95"
      },
      "outputs": [
        {
          "output_type": "display_data",
          "data": {
            "text/plain": [
              "<Figure size 800x600 with 2 Axes>"
            ],
            "image/png": "[encoded data removed]"
          },
          "metadata": {}
        }
      ],
      "execution_count": 19
    },
    {
      "cell_type": "markdown",
      "source": [
        "# **VGG 16**"
      ],
      "metadata": {
        "id": "1jpu5pMRLWM6"
      }
    },
    {
      "cell_type": "code",
      "source": [
        "import torch\n",
        "import torch.nn as nn\n",
        "import torch.optim as optim\n",
        "import torchvision.models as models\n",
        "from torchvision.models import VGG16_Weights\n",
        "import matplotlib.pyplot as plt\n",
        "import time\n",
        "\n",
        "\n",
        "device = torch.device(\"cuda\" if torch.cuda.is_available() else \"cpu\")\n",
        "print(f\"Using device: {device}\")\n",
        "\n",
        "def train_and_validate(model, train_loader, val_loader, optimizer, criterion, epochs):\n",
        "    model.to(device)\n",
        "    history = {'train_loss': [], 'train_acc': [], 'val_loss': [], 'val_acc': []}\n",
        "    start_time = time.time()\n",
        "\n",
        "    for epoch in range(epochs):\n",
        "\n",
        "        model.train()\n",
        "        running_loss, correct_predictions, total_predictions = 0.0, 0, 0\n",
        "        for inputs, labels in train_loader:\n",
        "            inputs, labels = inputs.to(device), labels.to(device)\n",
        "            optimizer.zero_grad()\n",
        "            outputs = model(inputs)\n",
        "            loss = criterion(outputs, labels)\n",
        "            loss.backward()\n",
        "            optimizer.step()\n",
        "            running_loss += loss.item() * inputs.size(0)\n",
        "            _, predicted = torch.max(outputs.data, 1)\n",
        "            total_predictions += labels.size(0)\n",
        "            correct_predictions += (predicted == labels).sum().item()\n",
        "        epoch_loss = running_loss / len(train_loader.dataset)\n",
        "        epoch_acc = correct_predictions / total_predictions\n",
        "        history['train_loss'].append(epoch_loss)\n",
        "        history['train_acc'].append(epoch_acc)\n",
        "\n",
        "\n",
        "        model.eval()\n",
        "        val_running_loss, val_correct_predictions, val_total_predictions = 0.0, 0, 0\n",
        "        with torch.no_grad():\n",
        "            for inputs, labels in val_loader:\n",
        "                inputs, labels = inputs.to(device), labels.to(device)\n",
        "                outputs = model(inputs)\n",
        "                loss = criterion(outputs, labels)\n",
        "                val_running_loss += loss.item() * inputs.size(0)\n",
        "                _, predicted = torch.max(outputs.data, 1)\n",
        "                val_total_predictions += labels.size(0)\n",
        "                val_correct_predictions += (predicted == labels).sum().item()\n",
        "        val_epoch_loss = val_running_loss / len(val_loader.dataset)\n",
        "        val_epoch_acc = val_correct_predictions / val_total_predictions\n",
        "        history['val_loss'].append(val_epoch_loss)\n",
        "        history['val_acc'].append(val_epoch_acc)\n",
        "\n",
        "        print(f'Epoch {epoch+1}/{epochs} | Train Loss: {epoch_loss:.4f} | Train Acc: {epoch_acc:.4f} | Val Loss: {val_epoch_loss:.4f} | Val Acc: {val_epoch_acc:.4f}')\n",
        "\n",
        "    end_time = time.time()\n",
        "    print(f'Finished Training. Total time: {(end_time - start_time)/60:.2f} minutes')\n",
        "    return history\n",
        "\n",
        "def plot_curves(history, model_name):\n",
        "    plt.figure(figsize=(14, 5))\n",
        "    plt.subplot(1, 2, 1)\n",
        "    plt.plot(history['train_loss'], label='Training Loss')\n",
        "    plt.plot(history['val_loss'], label='Validation Loss')\n",
        "    plt.title(f'{model_name} - Loss Curves')\n",
        "    plt.xlabel('Epochs')\n",
        "    plt.ylabel('Loss')\n",
        "    plt.legend()\n",
        "    plt.grid(True)\n",
        "    plt.subplot(1, 2, 2)\n",
        "    plt.plot(history['train_acc'], label='Training Accuracy')\n",
        "    plt.plot(history['val_acc'], label='Validation Accuracy')\n",
        "    plt.title(f'{model_name} - Accuracy Curves')\n",
        "    plt.xlabel('Epochs')\n",
        "    plt.ylabel('Accuracy')\n",
        "    plt.legend()\n",
        "    plt.grid(True)\n",
        "    plt.tight_layout()\n",
        "    plt.show()\n",
        "\n",
        "def get_vgg16_model():\n",
        "    vgg16 = models.vgg16(weights=VGG16_Weights.IMAGENET1K_V1)\n",
        "\n",
        "    #Freeze the parameters of the feature extractor\n",
        "    for param in vgg16.features.parameters():\n",
        "        param.requires_grad = False\n",
        "\n",
        "    num_features = vgg16.classifier[-1].in_features\n",
        "    vgg16.classifier[-1] = nn.Linear(num_features, 3)\n",
        "\n",
        "    return vgg16\n",
        "\n",
        "\n",
        "hyperparameters = [\n",
        "    {'lr': 0.000001, 'wd': 0.031},\n",
        "    {'lr': 0.000001, 'wd': 0.120},\n",
        "    {'lr': 0.0000001, 'wd': 0.0350}\n",
        "]\n",
        "\n",
        "num_epochs = 5\n",
        "all_histories = []\n",
        "best_val_acc = 0.0\n",
        "best_history = None\n",
        "best_hyperparams = None\n",
        "\n",
        "\n",
        "for params in hyperparameters:\n",
        "    print(f\"\"\"\n",
        "--------------------------------------------------\n",
        "Training VGG16 with: Learning Rate={params['lr']}, Weight Decay={params['wd']}\n",
        "--------------------------------------------------\"\"\")\n",
        "\n",
        "    vgg16_model = get_vgg16_model()\n",
        "\n",
        "    optimizer = optim.Adam(vgg16_model.classifier.parameters(), lr=params['lr'], weight_decay=params['wd'])\n",
        "    criterion = nn.CrossEntropyLoss()\n",
        "\n",
        "    history = train_and_validate(vgg16_model, train_loader, val_loader, optimizer, criterion, num_epochs)\n",
        "    all_histories.append(history)\n",
        "\n",
        "    final_val_acc = history['val_acc'][-1]\n",
        "    if final_val_acc > best_val_acc:\n",
        "        best_val_acc = final_val_acc\n",
        "        best_history = history\n",
        "        best_hyperparams = params\n",
        "\n",
        "print(f\"\"\"\n",
        "==================================================\n",
        "Best performing VGG16 model had:\n",
        "- Learning Rate: {best_hyperparams['lr']}\n",
        "- Weight Decay: {best_hyperparams['wd']}\n",
        "- Final Validation Accuracy: {best_val_acc:.4f}\n",
        "==================================================\n",
        "\"\"\")\n",
        "\n",
        "print(\"Plotting learning curves for the best VGG16 model...\")\n",
        "plot_curves(best_history, \"Best VGG16\")"
      ],
      "metadata": {
        "id": "Gs3WZ6pJdKPi",
        "colab": {
          "base_uri": "https://localhost:8080/",
          "height": 1000
        },
        "outputId": "5e0aa440-fb41-438d-cdee-a615d3791c18"
      },
      "execution_count": 20,
      "outputs": [
        {
          "output_type": "stream",
          "name": "stdout",
          "text": [
            "Using device: cuda\n",
            "\n",
            "--------------------------------------------------\n",
            "Training VGG16 with: Learning Rate=1e-06, Weight Decay=0.031\n",
            "--------------------------------------------------\n"
          ]
        },
        {
          "output_type": "stream",
          "name": "stderr",
          "text": [
            "Downloading: \"https://download.pytorch.org/models/vgg16-397923af.pth\" to /root/.cache/torch/hub/checkpoints/vgg16-397923af.pth\n",
            "100%|██████████| 528M/528M [00:06<00:00, 86.7MB/s]\n"
          ]
        },
        {
          "output_type": "stream",
          "name": "stdout",
          "text": [
            "Epoch 1/5 | Train Loss: 1.1306 | Train Acc: 0.3485 | Val Loss: 1.0242 | Val Acc: 0.6689\n",
            "Epoch 2/5 | Train Loss: 1.0024 | Train Acc: 0.5200 | Val Loss: 0.9175 | Val Acc: 0.8881\n",
            "Epoch 3/5 | Train Loss: 0.9136 | Train Acc: 0.6461 | Val Loss: 0.8200 | Val Acc: 0.9498\n",
            "Epoch 4/5 | Train Loss: 0.8271 | Train Acc: 0.7561 | Val Loss: 0.7269 | Val Acc: 0.9658\n",
            "Epoch 5/5 | Train Loss: 0.7287 | Train Acc: 0.8343 | Val Loss: 0.6384 | Val Acc: 0.9726\n",
            "Finished Training. Total time: 1.91 minutes\n",
            "\n",
            "--------------------------------------------------\n",
            "Training VGG16 with: Learning Rate=1e-06, Weight Decay=0.12\n",
            "--------------------------------------------------\n",
            "Epoch 1/5 | Train Loss: 1.0806 | Train Acc: 0.4145 | Val Loss: 0.9736 | Val Acc: 0.7603\n",
            "Epoch 2/5 | Train Loss: 0.9723 | Train Acc: 0.5543 | Val Loss: 0.8922 | Val Acc: 0.8790\n",
            "Epoch 3/5 | Train Loss: 0.9099 | Train Acc: 0.6457 | Val Loss: 0.8182 | Val Acc: 0.9224\n",
            "Epoch 4/5 | Train Loss: 0.8387 | Train Acc: 0.7160 | Val Loss: 0.7497 | Val Acc: 0.9315\n",
            "Epoch 5/5 | Train Loss: 0.7661 | Train Acc: 0.7849 | Val Loss: 0.6833 | Val Acc: 0.9452\n",
            "Finished Training. Total time: 1.92 minutes\n",
            "\n",
            "--------------------------------------------------\n",
            "Training VGG16 with: Learning Rate=1e-07, Weight Decay=0.035\n",
            "--------------------------------------------------\n",
            "Epoch 1/5 | Train Loss: 1.1413 | Train Acc: 0.3646 | Val Loss: 1.1045 | Val Acc: 0.4110\n",
            "Epoch 2/5 | Train Loss: 1.1142 | Train Acc: 0.3886 | Val Loss: 1.0911 | Val Acc: 0.4338\n",
            "Epoch 3/5 | Train Loss: 1.1020 | Train Acc: 0.4125 | Val Loss: 1.0783 | Val Acc: 0.4521\n",
            "Epoch 4/5 | Train Loss: 1.0986 | Train Acc: 0.4032 | Val Loss: 1.0656 | Val Acc: 0.4772\n",
            "Epoch 5/5 | Train Loss: 1.0725 | Train Acc: 0.4345 | Val Loss: 1.0532 | Val Acc: 0.5046\n",
            "Finished Training. Total time: 1.92 minutes\n",
            "\n",
            "==================================================\n",
            "Best performing VGG16 model had:\n",
            "- Learning Rate: 1e-06\n",
            "- Weight Decay: 0.031\n",
            "- Final Validation Accuracy: 0.9726\n",
            "==================================================\n",
            "\n",
            "Plotting learning curves for the best VGG16 model...\n"
          ]
        },
        {
          "output_type": "display_data",
          "data": {
            "text/plain": [
              "<Figure size 1400x500 with 2 Axes>"
            ],
            "image/png": "[encoded data removed]"
          },
          "metadata": {}
        }
      ]
    },
    {
      "cell_type": "code",
      "source": [
        "import torch\n",
        "import torch.nn as nn\n",
        "import torch.optim as optim\n",
        "import torchvision.models as models\n",
        "from torchvision.models import VGG16_Weights\n",
        "import matplotlib.pyplot as plt\n",
        "import time\n",
        "\n",
        "\n",
        "device = torch.device(\"cuda\" if torch.cuda.is_available() else \"cpu\")\n",
        "print(f\"Using device: {device}\")\n",
        "\n",
        "def train_and_validate(model, train_loader, val_loader, optimizer, criterion, epochs):\n",
        "    model.to(device)\n",
        "    for epoch in range(epochs):\n",
        "        model.train()\n",
        "        for inputs, labels in train_loader:\n",
        "            inputs, labels = inputs.to(device), labels.to(device)\n",
        "            optimizer.zero_grad()\n",
        "            outputs = model(inputs)\n",
        "            loss = criterion(outputs, labels)\n",
        "            loss.backward()\n",
        "            optimizer.step()\n",
        "\n",
        "        model.eval()\n",
        "        val_loss, correct, total = 0, 0, 0\n",
        "        with torch.no_grad():\n",
        "            for inputs, labels in val_loader:\n",
        "                inputs, labels = inputs.to(device), labels.to(device)\n",
        "                outputs = model(inputs)\n",
        "                val_loss += criterion(outputs, labels).item()\n",
        "                _, predicted = torch.max(outputs.data, 1)\n",
        "                total += labels.size(0)\n",
        "                correct += (predicted == labels).sum().item()\n",
        "\n",
        "        val_acc = correct / total\n",
        "        print(f'Epoch {epoch+1}/{epochs}, Validation Accuracy: {val_acc:.4f}')\n",
        "\n",
        "    print('Finished Training.')\n",
        "    return model\n",
        "\n",
        "def evaluate_on_test_set(model, loader, criterion):\n",
        "    model.eval()\n",
        "    model.to(device)\n",
        "    test_loss, correct, total = 0, 0, 0\n",
        "    with torch.no_grad():\n",
        "        for inputs, labels in loader:\n",
        "            inputs, labels = inputs.to(device), labels.to(device)\n",
        "            outputs = model(inputs)\n",
        "            test_loss += criterion(outputs, labels).item()\n",
        "            _, predicted = torch.max(outputs.data, 1)\n",
        "            total += labels.size(0)\n",
        "            correct += (predicted == labels).sum().item()\n",
        "\n",
        "    final_loss = test_loss / len(loader)\n",
        "    final_acc = correct / total\n",
        "    return final_loss, final_acc\n",
        "\n",
        "def get_vgg16_model():\n",
        "    vgg16 = models.vgg16(weights=VGG16_Weights.IMAGENET1K_V1)\n",
        "    for param in vgg16.features.parameters():\n",
        "        param.requires_grad = False\n",
        "    num_features = vgg16.classifier[-1].in_features\n",
        "    vgg16.classifier[-1] = nn.Linear(num_features, 3)\n",
        "    return vgg16\n",
        "\n",
        "\n",
        "best_vgg16_params = {\n",
        "      'lr': 0.000001,\n",
        "      'wd': 0.120,\n",
        "      'epochs': 5\n",
        "}\n",
        "\n",
        "\n",
        "\n",
        "print(\"--- Training Final VGG16 Model ---\")\n",
        "final_vgg16_model = get_vgg16_model()\n",
        "optimizer = optim.Adam(final_vgg16_model.classifier.parameters(), lr=best_vgg16_params['lr'], weight_decay=best_vgg16_params['wd'])\n",
        "criterion = nn.CrossEntropyLoss()\n",
        "\n",
        "trained_vgg16_model = train_and_validate(final_vgg16_model, train_loader, val_loader, optimizer, criterion, best_vgg16_params['epochs'])\n",
        "\n",
        "print(\"\\n--- Evaluating VGG16 Model on Test Data ---\")\n",
        "vgg16_test_loss, vgg16_test_accuracy = evaluate_on_test_set(trained_vgg16_model, test_loader, criterion)\n",
        "\n",
        "print(f\"\\n--- Final VGG16 Test Results ---\")\n",
        "print(f\"Test Loss: {vgg16_test_loss:.4f}\")\n",
        "print(f\"Test Accuracy: {vgg16_test_accuracy * 100:.2f}%\")"
      ],
      "metadata": {
        "trusted": true,
        "execution": {
          "iopub.status.busy": "2025-06-12T12:27:20.575851Z",
          "iopub.execute_input": "2025-06-12T12:27:20.576466Z",
          "iopub.status.idle": "2025-06-12T12:28:07.219700Z",
          "shell.execute_reply.started": "2025-06-12T12:27:20.576445Z",
          "shell.execute_reply": "2025-06-12T12:28:07.218938Z"
        },
        "id": "3IdBF-3i3Mou",
        "colab": {
          "base_uri": "https://localhost:8080/"
        },
        "outputId": "f9d10a2a-9975-48fa-f631-9f505a53c86c"
      },
      "outputs": [
        {
          "output_type": "stream",
          "name": "stdout",
          "text": [
            "Using device: cuda\n",
            "--- Training Final VGG16 Model ---\n",
            "Epoch 1/5, Validation Accuracy: 0.5639\n",
            "Epoch 2/5, Validation Accuracy: 0.7945\n",
            "Epoch 3/5, Validation Accuracy: 0.8995\n",
            "Epoch 4/5, Validation Accuracy: 0.9361\n",
            "Epoch 5/5, Validation Accuracy: 0.9452\n",
            "Finished Training.\n",
            "\n",
            "--- Evaluating VGG16 Model on Test Data ---\n",
            "\n",
            "--- Final VGG16 Test Results ---\n",
            "Test Loss: 0.7218\n",
            "Test Accuracy: 94.56%\n"
          ]
        }
      ],
      "execution_count": 21
    },
    {
      "cell_type": "code",
      "source": [
        "import torch\n",
        "import numpy as np\n",
        "from sklearn.metrics import classification_report\n",
        "\n",
        "vgg_all_preds = []\n",
        "vgg_all_labels = []\n",
        "\n",
        "final_vgg16_model.eval()\n",
        "final_vgg16_model.to(device)\n",
        "\n",
        "with torch.no_grad():\n",
        "    for inputs, labels in test_loader:\n",
        "        inputs, labels = inputs.to(device), labels.to(device)\n",
        "\n",
        "        outputs = final_vgg16_model(inputs)\n",
        "        _, predicted = torch.max(outputs, 1)\n",
        "\n",
        "        vgg_all_preds.extend(predicted.cpu().numpy())\n",
        "        vgg_all_labels.extend(labels.cpu().numpy())\n",
        "\n",
        "class_names = test_loader.dataset.classes\n",
        "\n",
        "print(\"--- VGG16 Classification Report ---\")\n",
        "print(classification_report(vgg_all_labels, vgg_all_preds, target_names=class_names))"
      ],
      "metadata": {
        "trusted": true,
        "execution": {
          "iopub.status.busy": "2025-06-12T12:28:26.768417Z",
          "iopub.execute_input": "2025-06-12T12:28:26.769027Z",
          "iopub.status.idle": "2025-06-12T12:28:28.890200Z",
          "shell.execute_reply.started": "2025-06-12T12:28:26.769002Z",
          "shell.execute_reply": "2025-06-12T12:28:28.889596Z"
        },
        "id": "RxJDTrV33Mov",
        "colab": {
          "base_uri": "https://localhost:8080/"
        },
        "outputId": "f70e72aa-8042-4923-a3c9-398f8365c3c5"
      },
      "outputs": [
        {
          "output_type": "stream",
          "name": "stdout",
          "text": [
            "--- VGG16 Classification Report ---\n",
            "              precision    recall  f1-score   support\n",
            "\n",
            "       paper       0.99      0.91      0.95       147\n",
            "        rock       0.90      0.97      0.93       147\n",
            "    scissors       0.95      0.96      0.95       147\n",
            "\n",
            "    accuracy                           0.95       441\n",
            "   macro avg       0.95      0.95      0.95       441\n",
            "weighted avg       0.95      0.95      0.95       441\n",
            "\n"
          ]
        }
      ],
      "execution_count": 22
    },
    {
      "cell_type": "code",
      "source": [
        "import seaborn as sns\n",
        "import matplotlib.pyplot as plt\n",
        "from sklearn.metrics import confusion_matrix\n",
        "\n",
        "vgg_cm = confusion_matrix(vgg_all_labels, vgg_all_preds)\n",
        "\n",
        "plt.figure(figsize=(8, 6))\n",
        "sns.heatmap(vgg_cm, annot=True, fmt='d', cmap='Greens',\n",
        "            xticklabels=class_names, yticklabels=class_names)\n",
        "\n",
        "plt.title('VGG16 Confusion Matrix')\n",
        "plt.ylabel('Actual Label')\n",
        "plt.xlabel('Predicted Label')\n",
        "plt.show()"
      ],
      "metadata": {
        "trusted": true,
        "execution": {
          "iopub.status.busy": "2025-06-12T12:28:31.009374Z",
          "iopub.execute_input": "2025-06-12T12:28:31.009891Z",
          "iopub.status.idle": "2025-06-12T12:28:31.192481Z",
          "shell.execute_reply.started": "2025-06-12T12:28:31.009868Z",
          "shell.execute_reply": "2025-06-12T12:28:31.191685Z"
        },
        "id": "_JkwPrVQ3Mov",
        "colab": {
          "base_uri": "https://localhost:8080/",
          "height": 564
        },
        "outputId": "d3405227-efc6-48a3-a5c7-be1d9c982d9e"
      },
      "outputs": [
        {
          "output_type": "display_data",
          "data": {
            "text/plain": [
              "<Figure size 800x600 with 2 Axes>"
            ],
            "image/png": "[encoded data removed]"
          },
          "metadata": {}
        }
      ],
      "execution_count": 23
    },
    {
      "cell_type": "markdown",
      "source": [
        "**RESNET**"
      ],
      "metadata": {
        "id": "6l7SU1jK3Mov"
      }
    },
    {
      "cell_type": "code",
      "source": [
        "import torch\n",
        "import torch.nn as nn\n",
        "import torch.optim as optim\n",
        "import torchvision.models as models\n",
        "from torchvision.models import ResNet50_Weights\n",
        "import matplotlib.pyplot as plt\n",
        "import time\n",
        "\n",
        "\n",
        "device = torch.device(\"cuda\" if torch.cuda.is_available() else \"cpu\")\n",
        "print(f\"Using device: {device}\")\n",
        "\n",
        "def train_and_validate(model, train_loader, val_loader, optimizer, criterion, epochs):\n",
        "\n",
        "    model.to(device)\n",
        "    history = {'train_loss': [], 'train_acc': [], 'val_loss': [], 'val_acc': []}\n",
        "    start_time = time.time()\n",
        "\n",
        "    for epoch in range(epochs):\n",
        "\n",
        "        model.train()\n",
        "        running_loss, correct_predictions, total_predictions = 0.0, 0, 0\n",
        "        for inputs, labels in train_loader:\n",
        "            inputs, labels = inputs.to(device), labels.to(device)\n",
        "            optimizer.zero_grad()\n",
        "            outputs = model(inputs)\n",
        "            loss = criterion(outputs, labels)\n",
        "            loss.backward()\n",
        "            optimizer.step()\n",
        "            running_loss += loss.item() * inputs.size(0)\n",
        "            _, predicted = torch.max(outputs.data, 1)\n",
        "            total_predictions += labels.size(0)\n",
        "            correct_predictions += (predicted == labels).sum().item()\n",
        "        epoch_loss = running_loss / len(train_loader.dataset)\n",
        "        epoch_acc = correct_predictions / total_predictions\n",
        "        history['train_loss'].append(epoch_loss)\n",
        "        history['train_acc'].append(epoch_acc)\n",
        "\n",
        "\n",
        "        model.eval()\n",
        "        val_running_loss, val_correct_predictions, val_total_predictions = 0.0, 0, 0\n",
        "        with torch.no_grad():\n",
        "            for inputs, labels in val_loader:\n",
        "                inputs, labels = inputs.to(device), labels.to(device)\n",
        "                outputs = model(inputs)\n",
        "                loss = criterion(outputs, labels)\n",
        "                val_running_loss += loss.item() * inputs.size(0)\n",
        "                _, predicted = torch.max(outputs.data, 1)\n",
        "                val_total_predictions += labels.size(0)\n",
        "                val_correct_predictions += (predicted == labels).sum().item()\n",
        "        val_epoch_loss = val_running_loss / len(val_loader.dataset)\n",
        "        val_epoch_acc = val_correct_predictions / val_total_predictions\n",
        "        history['val_loss'].append(val_epoch_loss)\n",
        "        history['val_acc'].append(val_epoch_acc)\n",
        "\n",
        "        print(f'Epoch {epoch+1}/{epochs} | Train Loss: {epoch_loss:.4f} | Train Acc: {epoch_acc:.4f} | Val Loss: {val_epoch_loss:.4f} | Val Acc: {val_epoch_acc:.4f}')\n",
        "\n",
        "    end_time = time.time()\n",
        "    print(f'Finished Training. Total time: {(end_time - start_time)/60:.2f} minutes')\n",
        "    return history\n",
        "\n",
        "def plot_curves(history, model_name):\n",
        "    plt.figure(figsize=(14, 5))\n",
        "    plt.subplot(1, 2, 1)\n",
        "    plt.plot(history['train_loss'], label='Training Loss')\n",
        "    plt.plot(history['val_loss'], label='Validation Loss')\n",
        "    plt.title(f'{model_name} - Loss Curves')\n",
        "    plt.xlabel('Epochs')\n",
        "    plt.ylabel('Loss')\n",
        "    plt.legend()\n",
        "    plt.grid(True)\n",
        "    plt.subplot(1, 2, 2)\n",
        "    plt.plot(history['train_acc'], label='Training Accuracy')\n",
        "    plt.plot(history['val_acc'], label='Validation Accuracy')\n",
        "    plt.title(f'{model_name} - Accuracy Curves')\n",
        "    plt.xlabel('Epochs')\n",
        "    plt.ylabel('Accuracy')\n",
        "    plt.legend()\n",
        "    plt.grid(True)\n",
        "    plt.tight_layout()\n",
        "    plt.show()\n",
        "\n",
        "\n",
        "def get_resnet50_model():\n",
        "    resnet50 = models.resnet50(weights=ResNet50_Weights.IMAGENET1K_V1)\n",
        "\n",
        "    #Freeze all the parameters in the model\n",
        "    for param in resnet50.parameters():\n",
        "        param.requires_grad = False\n",
        "\n",
        "    num_ftrs = resnet50.fc.in_features\n",
        "\n",
        "    resnet50.fc = nn.Linear(num_ftrs, 3)\n",
        "\n",
        "    return resnet50"
      ],
      "metadata": {
        "trusted": true,
        "execution": {
          "iopub.status.busy": "2025-06-12T12:59:13.257876Z",
          "iopub.execute_input": "2025-06-12T12:59:13.258235Z",
          "iopub.status.idle": "2025-06-12T13:01:41.211028Z",
          "shell.execute_reply.started": "2025-06-12T12:59:13.258214Z",
          "shell.execute_reply": "2025-06-12T13:01:41.210175Z"
        },
        "id": "O-uTcNXQ3Mov",
        "colab": {
          "base_uri": "https://localhost:8080/"
        },
        "outputId": "9e0aeba0-2f60-43e3-f163-4512e2c1d3ae"
      },
      "outputs": [
        {
          "output_type": "stream",
          "name": "stdout",
          "text": [
            "Using device: cuda\n"
          ]
        }
      ],
      "execution_count": 24
    },
    {
      "cell_type": "code",
      "source": [
        "hyperparameters = [\n",
        "    {'lr': 0.00001, 'wd': 0.02},\n",
        "    {'lr': 0.00001, 'wd': 0.045},\n",
        "    {'lr': 0.0001, 'wd': 0.05}\n",
        "]\n",
        "\n",
        "num_epochs = 5\n",
        "all_histories = []\n",
        "best_val_acc = 0.0\n",
        "best_history = None\n",
        "best_hyperparams = None\n",
        "\n",
        "\n",
        "for params in hyperparameters:\n",
        "    print(f\"\"\"\n",
        "--------------------------------------------------\n",
        "Training ResNet50 with: Learning Rate={params['lr']}, Weight Decay={params['wd']}\n",
        "--------------------------------------------------\"\"\")\n",
        "\n",
        "\n",
        "    resnet_model = get_resnet50_model()\n",
        "\n",
        "\n",
        "    optimizer = optim.Adam(resnet_model.parameters(), lr=params['lr'], weight_decay=params['wd'])\n",
        "    criterion = nn.CrossEntropyLoss()\n",
        "\n",
        "    history = train_and_validate(resnet_model, train_loader, val_loader, optimizer, criterion, num_epochs)\n",
        "    all_histories.append(history)\n",
        "\n",
        "    final_val_acc = history['val_acc'][-1]\n",
        "    if final_val_acc > best_val_acc:\n",
        "        best_val_acc = final_val_acc\n",
        "        best_history = history\n",
        "        best_hyperparams = params\n",
        "\n",
        "print(f\"\"\"\n",
        "==================================================\n",
        "Best performing ResNet50 model had:\n",
        "- Learning Rate: {best_hyperparams['lr']}\n",
        "- Weight Decay: {best_hyperparams['wd']}\n",
        "- Final Validation Accuracy: {best_val_acc:.4f}\n",
        "==================================================\n",
        "\"\"\")\n",
        "\n",
        "print(\"Plotting learning curves for the best ResNet50 model...\")\n",
        "plot_curves(best_history, \"Best ResNet50\")"
      ],
      "metadata": {
        "id": "QDsONu5g9qIn",
        "colab": {
          "base_uri": "https://localhost:8080/",
          "height": 1000
        },
        "outputId": "92c2e9ce-de64-4179-b1bc-478a9b221cdb"
      },
      "execution_count": 25,
      "outputs": [
        {
          "output_type": "stream",
          "name": "stdout",
          "text": [
            "\n",
            "--------------------------------------------------\n",
            "Training ResNet50 with: Learning Rate=1e-05, Weight Decay=0.02\n",
            "--------------------------------------------------\n"
          ]
        },
        {
          "output_type": "stream",
          "name": "stderr",
          "text": [
            "Downloading: \"https://download.pytorch.org/models/resnet50-0676ba61.pth\" to /root/.cache/torch/hub/checkpoints/resnet50-0676ba61.pth\n",
            "100%|██████████| 97.8M/97.8M [00:00<00:00, 193MB/s]\n"
          ]
        },
        {
          "output_type": "stream",
          "name": "stdout",
          "text": [
            "Epoch 1/5 | Train Loss: 1.1185 | Train Acc: 0.3280 | Val Loss: 1.0883 | Val Acc: 0.4041\n",
            "Epoch 2/5 | Train Loss: 1.0775 | Train Acc: 0.4096 | Val Loss: 1.0617 | Val Acc: 0.4543\n",
            "Epoch 3/5 | Train Loss: 1.0506 | Train Acc: 0.5029 | Val Loss: 1.0334 | Val Acc: 0.5320\n",
            "Epoch 4/5 | Train Loss: 1.0259 | Train Acc: 0.5743 | Val Loss: 1.0061 | Val Acc: 0.6096\n",
            "Epoch 5/5 | Train Loss: 0.9978 | Train Acc: 0.6457 | Val Loss: 0.9814 | Val Acc: 0.6826\n",
            "Finished Training. Total time: 1.18 minutes\n",
            "\n",
            "--------------------------------------------------\n",
            "Training ResNet50 with: Learning Rate=1e-05, Weight Decay=0.045\n",
            "--------------------------------------------------\n",
            "Epoch 1/5 | Train Loss: 1.0989 | Train Acc: 0.3729 | Val Loss: 1.0723 | Val Acc: 0.4498\n",
            "Epoch 2/5 | Train Loss: 1.0671 | Train Acc: 0.4409 | Val Loss: 1.0411 | Val Acc: 0.5274\n",
            "Epoch 3/5 | Train Loss: 1.0406 | Train Acc: 0.5279 | Val Loss: 1.0116 | Val Acc: 0.6142\n",
            "Epoch 4/5 | Train Loss: 1.0164 | Train Acc: 0.6026 | Val Loss: 0.9845 | Val Acc: 0.6804\n",
            "Epoch 5/5 | Train Loss: 0.9874 | Train Acc: 0.6696 | Val Loss: 0.9621 | Val Acc: 0.7489\n",
            "Finished Training. Total time: 1.18 minutes\n",
            "\n",
            "--------------------------------------------------\n",
            "Training ResNet50 with: Learning Rate=0.0001, Weight Decay=0.05\n",
            "--------------------------------------------------\n",
            "Epoch 1/5 | Train Loss: 1.0058 | Train Acc: 0.5616 | Val Loss: 0.8660 | Val Acc: 0.8288\n",
            "Epoch 2/5 | Train Loss: 0.7966 | Train Acc: 0.8519 | Val Loss: 0.6974 | Val Acc: 0.9087\n",
            "Epoch 3/5 | Train Loss: 0.6600 | Train Acc: 0.9135 | Val Loss: 0.5777 | Val Acc: 0.9589\n",
            "Epoch 4/5 | Train Loss: 0.5575 | Train Acc: 0.9453 | Val Loss: 0.4895 | Val Acc: 0.9680\n",
            "Epoch 5/5 | Train Loss: 0.4900 | Train Acc: 0.9448 | Val Loss: 0.4240 | Val Acc: 0.9772\n",
            "Finished Training. Total time: 1.19 minutes\n",
            "\n",
            "==================================================\n",
            "Best performing ResNet50 model had:\n",
            "- Learning Rate: 0.0001\n",
            "- Weight Decay: 0.05\n",
            "- Final Validation Accuracy: 0.9772\n",
            "==================================================\n",
            "\n",
            "Plotting learning curves for the best ResNet50 model...\n"
          ]
        },
        {
          "output_type": "display_data",
          "data": {
            "text/plain": [
              "<Figure size 1400x500 with 2 Axes>"
            ],
            "image/png": "[encoded data removed]"
          },
          "metadata": {}
        }
      ]
    },
    {
      "cell_type": "code",
      "source": [
        "import torch\n",
        "import torch.nn as nn\n",
        "import torch.optim as optim\n",
        "import torchvision.models as models\n",
        "from torchvision.models import ResNet50_Weights\n",
        "import matplotlib.pyplot as plt\n",
        "import time\n",
        "\n",
        "\n",
        "device = torch.device(\"cuda\" if torch.cuda.is_available() else \"cpu\")\n",
        "print(f\"Using device: {device}\")\n",
        "\n",
        "def train_and_validate(model, train_loader, val_loader, optimizer, criterion, epochs):\n",
        "    model.to(device)\n",
        "    for epoch in range(epochs):\n",
        "        model.train()\n",
        "        for inputs, labels in train_loader:\n",
        "            inputs, labels = inputs.to(device), labels.to(device)\n",
        "            optimizer.zero_grad()\n",
        "            outputs = model(inputs)\n",
        "            loss = criterion(outputs, labels)\n",
        "            loss.backward()\n",
        "            optimizer.step()\n",
        "\n",
        "        model.eval()\n",
        "        val_loss, correct, total = 0, 0, 0\n",
        "        with torch.no_grad():\n",
        "            for inputs, labels in val_loader:\n",
        "                inputs, labels = inputs.to(device), labels.to(device)\n",
        "                outputs = model(inputs)\n",
        "                val_loss += criterion(outputs, labels).item()\n",
        "                _, predicted = torch.max(outputs.data, 1)\n",
        "                total += labels.size(0)\n",
        "                correct += (predicted == labels).sum().item()\n",
        "\n",
        "        val_acc = correct / total\n",
        "        print(f'Epoch {epoch+1}/{epochs}, Validation Accuracy: {val_acc:.4f}')\n",
        "\n",
        "    print('Finished Training.')\n",
        "    return model\n",
        "\n",
        "def evaluate_on_test_set(model, loader, criterion):\n",
        "    model.eval()\n",
        "    model.to(device)\n",
        "    test_loss, correct, total = 0, 0, 0\n",
        "    with torch.no_grad():\n",
        "        for inputs, labels in loader:\n",
        "            inputs, labels = inputs.to(device), labels.to(device)\n",
        "            outputs = model(inputs)\n",
        "            test_loss += criterion(outputs, labels).item()\n",
        "            _, predicted = torch.max(outputs.data, 1)\n",
        "            total += labels.size(0)\n",
        "            correct += (predicted == labels).sum().item()\n",
        "\n",
        "    final_loss = test_loss / len(loader)\n",
        "    final_acc = correct / total\n",
        "    return final_loss, final_acc\n",
        "\n",
        "def get_resnet50_model():\n",
        "    resnet50 = models.resnet50(weights=ResNet50_Weights.IMAGENET1K_V1)\n",
        "    for param in resnet50.parameters():\n",
        "        param.requires_grad = False\n",
        "    num_ftrs = resnet50.fc.in_features\n",
        "    resnet50.fc = nn.Linear(num_ftrs, 3)\n",
        "    return resnet50\n",
        "\n"
      ],
      "metadata": {
        "trusted": true,
        "execution": {
          "iopub.status.busy": "2025-06-12T13:02:29.553723Z",
          "iopub.execute_input": "2025-06-12T13:02:29.554277Z",
          "iopub.status.idle": "2025-06-12T13:03:07.984915Z",
          "shell.execute_reply.started": "2025-06-12T13:02:29.554253Z",
          "shell.execute_reply": "2025-06-12T13:03:07.984283Z"
        },
        "id": "ihw0A77L3Mov",
        "colab": {
          "base_uri": "https://localhost:8080/"
        },
        "outputId": "213ec515-33d4-45a4-c486-ede31f7abd7d"
      },
      "outputs": [
        {
          "output_type": "stream",
          "name": "stdout",
          "text": [
            "Using device: cuda\n"
          ]
        }
      ],
      "execution_count": 26
    },
    {
      "cell_type": "code",
      "source": [
        "best_resnet_params = {\n",
        "   'lr': 0.0001,\n",
        "    'wd': 0.05,\n",
        "    'epochs': 5\n",
        "}\n",
        "\n",
        "print(\"--- Training Final ResNet50 Model ---\")\n",
        "final_resnet_model = get_resnet50_model()\n",
        "optimizer = optim.Adam(final_resnet_model.parameters(), lr=best_resnet_params['lr'], weight_decay=best_resnet_params['wd'])\n",
        "criterion = nn.CrossEntropyLoss()\n",
        "\n",
        "trained_resnet_model = train_and_validate(final_resnet_model, train_loader, val_loader, optimizer, criterion, best_resnet_params['epochs'])\n",
        "\n",
        "print(\"\\n--- Evaluating ResNet50 Model on Test Data ---\")\n",
        "resnet_test_loss, resnet_test_accuracy = evaluate_on_test_set(trained_resnet_model, test_loader, criterion)\n",
        "\n",
        "print(f\"\\n--- Final ResNet50 Test Results ---\")\n",
        "print(f\"Test Loss: {resnet_test_loss:.4f}\")\n",
        "print(f\"Test Accuracy: {resnet_test_accuracy * 100:.2f}%\")"
      ],
      "metadata": {
        "id": "-UZT4yOH-CIl",
        "colab": {
          "base_uri": "https://localhost:8080/"
        },
        "outputId": "ac52ff90-33b1-41f1-96d7-03b7aee86237"
      },
      "execution_count": 27,
      "outputs": [
        {
          "output_type": "stream",
          "name": "stdout",
          "text": [
            "--- Training Final ResNet50 Model ---\n",
            "Epoch 1/5, Validation Accuracy: 0.8219\n",
            "Epoch 2/5, Validation Accuracy: 0.9429\n",
            "Epoch 3/5, Validation Accuracy: 0.9521\n",
            "Epoch 4/5, Validation Accuracy: 0.9658\n",
            "Epoch 5/5, Validation Accuracy: 0.9749\n",
            "Finished Training.\n",
            "\n",
            "--- Evaluating ResNet50 Model on Test Data ---\n",
            "\n",
            "--- Final ResNet50 Test Results ---\n",
            "Test Loss: 0.4331\n",
            "Test Accuracy: 96.37%\n"
          ]
        }
      ]
    },
    {
      "cell_type": "code",
      "source": [
        "import torch\n",
        "import numpy as np\n",
        "from sklearn.metrics import classification_report\n",
        "\n",
        "resnet_all_preds = []\n",
        "resnet_all_labels = []\n",
        "\n",
        "final_resnet_model.eval()\n",
        "final_resnet_model.to(device)\n",
        "\n",
        "with torch.no_grad():\n",
        "    for inputs, labels in test_loader:\n",
        "        inputs, labels = inputs.to(device), labels.to(device)\n",
        "\n",
        "        outputs = final_resnet_model(inputs)\n",
        "        _, predicted = torch.max(outputs, 1)\n",
        "\n",
        "        resnet_all_preds.extend(predicted.cpu().numpy())\n",
        "        resnet_all_labels.extend(labels.cpu().numpy())\n",
        "\n",
        "class_names = test_loader.dataset.classes\n",
        "\n",
        "print(\"--- ResNet50 Classification Report ---\")\n",
        "print(classification_report(resnet_all_labels, resnet_all_preds, target_names=class_names))"
      ],
      "metadata": {
        "trusted": true,
        "execution": {
          "iopub.status.busy": "2025-06-12T13:04:55.850475Z",
          "iopub.execute_input": "2025-06-12T13:04:55.851114Z",
          "iopub.status.idle": "2025-06-12T13:04:57.550682Z",
          "shell.execute_reply.started": "2025-06-12T13:04:55.851090Z",
          "shell.execute_reply": "2025-06-12T13:04:57.549997Z"
        },
        "id": "MN1ElzV83Mow",
        "colab": {
          "base_uri": "https://localhost:8080/"
        },
        "outputId": "6314e408-7dac-415a-aa01-a8c37cc4462c"
      },
      "outputs": [
        {
          "output_type": "stream",
          "name": "stdout",
          "text": [
            "--- ResNet50 Classification Report ---\n",
            "              precision    recall  f1-score   support\n",
            "\n",
            "       paper       0.98      0.95      0.97       147\n",
            "        rock       0.98      0.97      0.97       147\n",
            "    scissors       0.93      0.97      0.95       147\n",
            "\n",
            "    accuracy                           0.96       441\n",
            "   macro avg       0.96      0.96      0.96       441\n",
            "weighted avg       0.96      0.96      0.96       441\n",
            "\n"
          ]
        }
      ],
      "execution_count": 28
    },
    {
      "cell_type": "code",
      "source": [
        "import seaborn as sns\n",
        "import matplotlib.pyplot as plt\n",
        "from sklearn.metrics import confusion_matrix\n",
        "\n",
        "resnet_cm = confusion_matrix(resnet_all_labels, resnet_all_preds)\n",
        "\n",
        "plt.figure(figsize=(8, 6))\n",
        "sns.heatmap(resnet_cm, annot=True, fmt='d', cmap='Oranges',\n",
        "            xticklabels=class_names, yticklabels=class_names)\n",
        "\n",
        "plt.title('ResNet50 Confusion Matrix')\n",
        "plt.ylabel('Actual Label')\n",
        "plt.xlabel('Predicted Label')\n",
        "plt.show()"
      ],
      "metadata": {
        "trusted": true,
        "execution": {
          "iopub.status.busy": "2025-06-12T13:04:57.551659Z",
          "iopub.execute_input": "2025-06-12T13:04:57.551947Z",
          "iopub.status.idle": "2025-06-12T13:04:57.736973Z",
          "shell.execute_reply.started": "2025-06-12T13:04:57.551929Z",
          "shell.execute_reply": "2025-06-12T13:04:57.736207Z"
        },
        "id": "KZeAf4E43Mow",
        "colab": {
          "base_uri": "https://localhost:8080/",
          "height": 564
        },
        "outputId": "93511c38-fefc-4408-dba4-b6ed46a93ffe"
      },
      "outputs": [
        {
          "output_type": "display_data",
          "data": {
            "text/plain": [
              "<Figure size 800x600 with 2 Axes>"
            ],
            "image/png": "[encoded data removed]"
          },
          "metadata": {}
        }
      ],
      "execution_count": 29
    },
    {
      "cell_type": "markdown",
      "source": [
        "**GoogLeNet**"
      ],
      "metadata": {
        "id": "gF-UXTRX3Mow"
      }
    },
    {
      "cell_type": "code",
      "source": [
        "import torch\n",
        "import torch.nn as nn\n",
        "import torch.optim as optim\n",
        "import torchvision.models as models\n",
        "from torchvision.models import GoogLeNet_Weights\n",
        "import matplotlib.pyplot as plt\n",
        "import time\n",
        "\n",
        "device = torch.device(\"cuda\" if torch.cuda.is_available() else \"cpu\")\n",
        "print(f\"Using device: {device}\")\n",
        "\n",
        "def train_and_validate_googlenet(model, train_loader, val_loader, optimizer, criterion, epochs):\n",
        "    model.to(device)\n",
        "    history = {'train_loss': [], 'train_acc': [], 'val_loss': [], 'val_acc': []}\n",
        "    start_time = time.time()\n",
        "\n",
        "    for epoch in range(epochs):\n",
        "        model.train()\n",
        "        running_loss, correct_predictions, total_predictions = 0.0, 0, 0\n",
        "        for inputs, labels in train_loader:\n",
        "            inputs, labels = inputs.to(device), labels.to(device)\n",
        "            optimizer.zero_grad()\n",
        "\n",
        "            outputs = model(inputs)\n",
        "\n",
        "            loss0 = criterion(outputs.logits, labels)\n",
        "            loss1 = criterion(outputs.aux_logits1, labels)\n",
        "            loss2 = criterion(outputs.aux_logits2, labels)\n",
        "            loss = loss0 + 0.3 * loss1 + 0.3 * loss2\n",
        "\n",
        "            loss.backward()\n",
        "            optimizer.step()\n",
        "\n",
        "            running_loss += loss.item() * inputs.size(0)\n",
        "            _, predicted = torch.max(outputs.logits, 1)\n",
        "            total_predictions += labels.size(0)\n",
        "            correct_predictions += (predicted == labels).sum().item()\n",
        "\n",
        "        epoch_loss = running_loss / len(train_loader.dataset)\n",
        "        epoch_acc = correct_predictions / total_predictions\n",
        "        history['train_loss'].append(epoch_loss)\n",
        "        history['train_acc'].append(epoch_acc)\n",
        "\n",
        "        model.eval()\n",
        "        val_running_loss, val_correct_predictions, val_total_predictions = 0.0, 0, 0\n",
        "        with torch.no_grad():\n",
        "            for inputs, labels in val_loader:\n",
        "                inputs, labels = inputs.to(device), labels.to(device)\n",
        "                outputs = model(inputs)\n",
        "                loss = criterion(outputs, labels)\n",
        "                val_running_loss += loss.item() * inputs.size(0)\n",
        "                _, predicted = torch.max(outputs.data, 1)\n",
        "                val_total_predictions += labels.size(0)\n",
        "                val_correct_predictions += (predicted == labels).sum().item()\n",
        "\n",
        "        val_epoch_loss = val_running_loss / len(val_loader.dataset)\n",
        "        val_epoch_acc = val_correct_predictions / val_total_predictions\n",
        "        history['val_loss'].append(val_epoch_loss)\n",
        "        history['val_acc'].append(val_epoch_acc)\n",
        "\n",
        "        print(f'Epoch {epoch+1}/{epochs} | Train Loss: {epoch_loss:.4f} | Train Acc: {epoch_acc:.4f} | Val Loss: {val_epoch_loss:.4f} | Val Acc: {val_epoch_acc:.4f}')\n",
        "\n",
        "    end_time = time.time()\n",
        "    print(f'Finished Training. Total time: {(end_time - start_time)/60:.2f} minutes')\n",
        "    return history\n",
        "\n",
        "def plot_curves(history, model_name):\n",
        "    plt.figure(figsize=(14, 5))\n",
        "    plt.subplot(1, 2, 1)\n",
        "    plt.plot(history['train_loss'], label='Training Loss')\n",
        "    plt.plot(history['val_loss'], label='Validation Loss')\n",
        "    plt.title(f'{model_name} - Loss Curves')\n",
        "    plt.xlabel('Epochs')\n",
        "    plt.ylabel('Loss')\n",
        "    plt.legend()\n",
        "    plt.grid(True)\n",
        "    plt.subplot(1, 2, 2)\n",
        "    plt.plot(history['train_acc'], label='Training Accuracy')\n",
        "    plt.plot(history['val_acc'], label='Validation Accuracy')\n",
        "    plt.title(f'{model_name} - Accuracy Curves')\n",
        "    plt.xlabel('Epochs')\n",
        "    plt.ylabel('Accuracy')\n",
        "    plt.legend()\n",
        "    plt.grid(True)\n",
        "    plt.tight_layout()\n",
        "    plt.show()\n",
        "\n",
        "def get_googlenet_model():\n",
        "\n",
        "    googlenet = models.googlenet(weights=GoogLeNet_Weights.IMAGENET1K_V1, aux_logits=True)\n",
        "\n",
        "    for param in googlenet.parameters():\n",
        "        param.requires_grad = False\n",
        "\n",
        "    num_ftrs = googlenet.fc.in_features\n",
        "    googlenet.fc = nn.Linear(num_ftrs, 3)\n",
        "\n",
        "    num_ftrs_aux1 = googlenet.aux1.fc2.in_features\n",
        "    googlenet.aux1.fc2 = nn.Linear(num_ftrs_aux1, 3)\n",
        "\n",
        "    num_ftrs_aux2 = googlenet.aux2.fc2.in_features\n",
        "    googlenet.aux2.fc2 = nn.Linear(num_ftrs_aux2, 3)\n",
        "\n",
        "    return googlenet"
      ],
      "metadata": {
        "trusted": true,
        "execution": {
          "iopub.status.busy": "2025-06-12T13:54:44.812039Z",
          "iopub.execute_input": "2025-06-12T13:54:44.812682Z",
          "iopub.status.idle": "2025-06-12T13:56:46.894434Z",
          "shell.execute_reply.started": "2025-06-12T13:54:44.812660Z",
          "shell.execute_reply": "2025-06-12T13:56:46.893707Z"
        },
        "id": "dxQ_SzLk3Mow",
        "colab": {
          "base_uri": "https://localhost:8080/"
        },
        "outputId": "5e1e1680-8d92-4281-db77-3e655c93bcfe"
      },
      "outputs": [
        {
          "output_type": "stream",
          "name": "stdout",
          "text": [
            "Using device: cuda\n"
          ]
        }
      ],
      "execution_count": 30
    },
    {
      "cell_type": "code",
      "source": [
        "hyperparameters = [\n",
        "    {'lr': 0.000001, 'wd': 0.0002},\n",
        "    {'lr': 0.0001, 'wd': 0.0655},\n",
        "    {'lr': 0.00001, 'wd': 0.03}\n",
        "]\n",
        "\n",
        "num_epochs = 5\n",
        "best_val_acc = 0.0\n",
        "best_history = None\n",
        "best_hyperparams = None\n",
        "\n",
        "for params in hyperparameters:\n",
        "    print(f\"\"\"\n",
        "--------------------------------------------------\n",
        "Training GoogLeNet with: Learning Rate={params['lr']}, Weight Decay={params['wd']}\n",
        "--------------------------------------------------\"\"\")\n",
        "\n",
        "    googlenet_model = get_googlenet_model()\n",
        "    optimizer = optim.Adam(googlenet_model.parameters(), lr=params['lr'], weight_decay=params['wd'])\n",
        "    criterion = nn.CrossEntropyLoss()\n",
        "\n",
        "    history = train_and_validate_googlenet(googlenet_model, train_loader, val_loader, optimizer, criterion, num_epochs)\n",
        "\n",
        "    final_val_acc = history['val_acc'][-1]\n",
        "    if final_val_acc > best_val_acc:\n",
        "        best_val_acc = final_val_acc\n",
        "        best_history = history\n",
        "        best_hyperparams = params\n",
        "\n",
        "print(f\"\"\"\n",
        "==================================================\n",
        "Best performing GoogLeNet model had:\n",
        "- Learning Rate: {best_hyperparams['lr']}\n",
        "- Weight Decay: {best_hyperparams['wd']}\n",
        "- Final Validation Accuracy: {best_val_acc:.4f}\n",
        "==================================================\n",
        "\"\"\")\n",
        "\n",
        "print(\"Plotting learning curves for the best GoogLeNet model...\")\n",
        "plot_curves(best_history, \"Best GoogLeNet\")"
      ],
      "metadata": {
        "id": "iE2qX40_-V-P",
        "colab": {
          "base_uri": "https://localhost:8080/",
          "height": 1000
        },
        "outputId": "f3d574b0-5495-4e67-b224-46584a462666"
      },
      "execution_count": 31,
      "outputs": [
        {
          "output_type": "stream",
          "name": "stdout",
          "text": [
            "\n",
            "--------------------------------------------------\n",
            "Training GoogLeNet with: Learning Rate=1e-06, Weight Decay=0.0002\n",
            "--------------------------------------------------\n"
          ]
        },
        {
          "output_type": "stream",
          "name": "stderr",
          "text": [
            "Downloading: \"https://download.pytorch.org/models/googlenet-1378be20.pth\" to /root/.cache/torch/hub/checkpoints/googlenet-1378be20.pth\n",
            "100%|██████████| 49.7M/49.7M [00:00<00:00, 197MB/s]\n",
            "/usr/local/lib/python3.11/dist-packages/torchvision/models/googlenet.py:341: UserWarning: auxiliary heads in the pretrained googlenet model are NOT pretrained, so make sure to train them\n",
            "  warnings.warn(\n"
          ]
        },
        {
          "output_type": "stream",
          "name": "stdout",
          "text": [
            "Epoch 1/5 | Train Loss: 1.8729 | Train Acc: 0.2805 | Val Loss: 1.1336 | Val Acc: 0.2694\n",
            "Epoch 2/5 | Train Loss: 1.8664 | Train Acc: 0.2820 | Val Loss: 1.1363 | Val Acc: 0.2694\n",
            "Epoch 3/5 | Train Loss: 1.8669 | Train Acc: 0.2849 | Val Loss: 1.1333 | Val Acc: 0.2922\n",
            "Epoch 4/5 | Train Loss: 1.8601 | Train Acc: 0.2952 | Val Loss: 1.1303 | Val Acc: 0.2922\n",
            "Epoch 5/5 | Train Loss: 1.8640 | Train Acc: 0.2688 | Val Loss: 1.1284 | Val Acc: 0.2854\n",
            "Finished Training. Total time: 0.83 minutes\n",
            "\n",
            "--------------------------------------------------\n",
            "Training GoogLeNet with: Learning Rate=0.0001, Weight Decay=0.0655\n",
            "--------------------------------------------------\n",
            "Epoch 1/5 | Train Loss: 1.7185 | Train Acc: 0.4677 | Val Loss: 0.9602 | Val Acc: 0.7397\n",
            "Epoch 2/5 | Train Loss: 1.5061 | Train Acc: 0.7317 | Val Loss: 0.8348 | Val Acc: 0.8881\n",
            "Epoch 3/5 | Train Loss: 1.3352 | Train Acc: 0.8480 | Val Loss: 0.7364 | Val Acc: 0.9269\n",
            "Epoch 4/5 | Train Loss: 1.2011 | Train Acc: 0.8832 | Val Loss: 0.6575 | Val Acc: 0.9452\n",
            "Epoch 5/5 | Train Loss: 1.0889 | Train Acc: 0.9110 | Val Loss: 0.5927 | Val Acc: 0.9475\n",
            "Finished Training. Total time: 0.83 minutes\n",
            "\n",
            "--------------------------------------------------\n",
            "Training GoogLeNet with: Learning Rate=1e-05, Weight Decay=0.03\n",
            "--------------------------------------------------\n",
            "Epoch 1/5 | Train Loss: 1.8187 | Train Acc: 0.4159 | Val Loss: 1.0680 | Val Acc: 0.4315\n",
            "Epoch 2/5 | Train Loss: 1.7947 | Train Acc: 0.4423 | Val Loss: 1.0516 | Val Acc: 0.4543\n",
            "Epoch 3/5 | Train Loss: 1.7630 | Train Acc: 0.4756 | Val Loss: 1.0358 | Val Acc: 0.5205\n",
            "Epoch 4/5 | Train Loss: 1.7260 | Train Acc: 0.5293 | Val Loss: 1.0217 | Val Acc: 0.5685\n",
            "Epoch 5/5 | Train Loss: 1.7051 | Train Acc: 0.5552 | Val Loss: 1.0087 | Val Acc: 0.6256\n",
            "Finished Training. Total time: 0.84 minutes\n",
            "\n",
            "==================================================\n",
            "Best performing GoogLeNet model had:\n",
            "- Learning Rate: 0.0001\n",
            "- Weight Decay: 0.0655\n",
            "- Final Validation Accuracy: 0.9475\n",
            "==================================================\n",
            "\n",
            "Plotting learning curves for the best GoogLeNet model...\n"
          ]
        },
        {
          "output_type": "display_data",
          "data": {
            "text/plain": [
              "<Figure size 1400x500 with 2 Axes>"
            ],
            "image/png": "[encoded data removed]"
          },
          "metadata": {}
        }
      ]
    },
    {
      "cell_type": "code",
      "source": [
        "import torch\n",
        "import torch.nn as nn\n",
        "import torch.optim as optim\n",
        "import torchvision.models as models\n",
        "from torchvision.models import GoogLeNet_Weights\n",
        "import time\n",
        "\n",
        "\n",
        "device = torch.device(\"cuda\" if torch.cuda.is_available() else \"cpu\")\n",
        "print(f\"Using device: {device}\")\n",
        "\n",
        "def train_and_validate_googlenet(model, train_loader, val_loader, optimizer, criterion, epochs):\n",
        "    model.to(device)\n",
        "    for epoch in range(epochs):\n",
        "        model.train()\n",
        "        for inputs, labels in train_loader:\n",
        "            inputs, labels = inputs.to(device), labels.to(device)\n",
        "            optimizer.zero_grad()\n",
        "            outputs = model(inputs)\n",
        "            loss0 = criterion(outputs.logits, labels)\n",
        "            loss1 = criterion(outputs.aux_logits1, labels)\n",
        "            loss2 = criterion(outputs.aux_logits2, labels)\n",
        "            loss = loss0 + 0.3 * loss1 + 0.3 * loss2\n",
        "            loss.backward()\n",
        "            optimizer.step()\n",
        "\n",
        "        model.eval()\n",
        "        correct, total = 0, 0\n",
        "        with torch.no_grad():\n",
        "            for inputs, labels in val_loader:\n",
        "                inputs, labels = inputs.to(device), labels.to(device)\n",
        "                outputs = model(inputs)\n",
        "                _, predicted = torch.max(outputs.data, 1)\n",
        "                total += labels.size(0)\n",
        "                correct += (predicted == labels).sum().item()\n",
        "\n",
        "        print(f'Epoch {epoch+1}/{epochs}, Validation Accuracy: {correct / total:.4f}')\n",
        "\n",
        "    print('Finished Training.')\n",
        "    return model\n",
        "\n",
        "def evaluate_on_test_set(model, loader, criterion):\n",
        "    model.eval()\n",
        "    model.to(device)\n",
        "    test_loss, correct, total = 0, 0, 0\n",
        "    with torch.no_grad():\n",
        "        for inputs, labels in loader:\n",
        "            inputs, labels = inputs.to(device), labels.to(device)\n",
        "            outputs = model(inputs)\n",
        "            test_loss += criterion(outputs, labels).item()\n",
        "            _, predicted = torch.max(outputs.data, 1)\n",
        "            total += labels.size(0)\n",
        "            correct += (predicted == labels).sum().item()\n",
        "\n",
        "    final_loss = test_loss / len(loader)\n",
        "    final_acc = correct / total\n",
        "    return final_loss, final_acc\n",
        "\n",
        "def get_googlenet_model():\n",
        "    googlenet = models.googlenet(weights=GoogLeNet_Weights.IMAGENET1K_V1, aux_logits=True)\n",
        "    for param in googlenet.parameters():\n",
        "        param.requires_grad = False\n",
        "\n",
        "    googlenet.fc = nn.Linear(googlenet.fc.in_features, 3)\n",
        "    googlenet.aux1.fc2 = nn.Linear(googlenet.aux1.fc2.in_features, 3)\n",
        "    googlenet.aux2.fc2 = nn.Linear(googlenet.aux2.fc2.in_features, 3)\n",
        "\n",
        "    return googlenet"
      ],
      "metadata": {
        "trusted": true,
        "execution": {
          "iopub.status.busy": "2025-06-12T14:01:45.527875Z",
          "iopub.execute_input": "2025-06-12T14:01:45.528559Z",
          "iopub.status.idle": "2025-06-12T14:02:22.978889Z",
          "shell.execute_reply.started": "2025-06-12T14:01:45.528514Z",
          "shell.execute_reply": "2025-06-12T14:02:22.978252Z"
        },
        "id": "bYDTTxmZ3Mow",
        "colab": {
          "base_uri": "https://localhost:8080/"
        },
        "outputId": "248a1a0a-71c2-42d1-9f48-8f817274e974"
      },
      "outputs": [
        {
          "output_type": "stream",
          "name": "stdout",
          "text": [
            "Using device: cuda\n"
          ]
        }
      ],
      "execution_count": 32
    },
    {
      "cell_type": "code",
      "source": [
        "best_googlenet_params = {\n",
        "    'lr': 0.0001,\n",
        "    'wd': 0.0655,\n",
        "    'epochs': 5\n",
        "}\n",
        "\n",
        "print(\"--- Training Final GoogLeNet Model ---\")\n",
        "final_googlenet_model = get_googlenet_model()\n",
        "optimizer = optim.Adam(final_googlenet_model.parameters(), lr=best_googlenet_params['lr'], weight_decay=best_googlenet_params['wd'])\n",
        "criterion = nn.CrossEntropyLoss()\n",
        "\n",
        "trained_googlenet_model = train_and_validate_googlenet(final_googlenet_model, train_loader, val_loader, optimizer, criterion, best_googlenet_params['epochs'])\n",
        "\n",
        "print(\"\\n--- Evaluating GoogLeNet Model on Test Data ---\")\n",
        "googlenet_test_loss, googlenet_test_accuracy = evaluate_on_test_set(trained_googlenet_model, test_loader, criterion)\n",
        "\n",
        "print(f\"\\n--- Final GoogLeNet Test Results ---\")\n",
        "print(f\"Test Loss: {googlenet_test_loss:.4f}\")\n",
        "print(f\"Test Accuracy: {googlenet_test_accuracy * 100:.2f}%\")"
      ],
      "metadata": {
        "id": "6TIDqtiZ-fq8",
        "colab": {
          "base_uri": "https://localhost:8080/"
        },
        "outputId": "abc79886-22d9-44fb-f551-ec01c715a12e"
      },
      "execution_count": 33,
      "outputs": [
        {
          "output_type": "stream",
          "name": "stdout",
          "text": [
            "--- Training Final GoogLeNet Model ---\n",
            "Epoch 1/5, Validation Accuracy: 0.7260\n",
            "Epoch 2/5, Validation Accuracy: 0.8973\n",
            "Epoch 3/5, Validation Accuracy: 0.9201\n",
            "Epoch 4/5, Validation Accuracy: 0.9452\n",
            "Epoch 5/5, Validation Accuracy: 0.9543\n",
            "Finished Training.\n",
            "\n",
            "--- Evaluating GoogLeNet Model on Test Data ---\n",
            "\n",
            "--- Final GoogLeNet Test Results ---\n",
            "Test Loss: 0.6182\n",
            "Test Accuracy: 92.74%\n"
          ]
        }
      ]
    },
    {
      "cell_type": "code",
      "source": [
        "import numpy as np\n",
        "from sklearn.metrics import classification_report\n",
        "\n",
        "googlenet_all_preds = []\n",
        "googlenet_all_labels = []\n",
        "\n",
        "trained_googlenet_model.eval()\n",
        "trained_googlenet_model.to(device)\n",
        "\n",
        "with torch.no_grad():\n",
        "    for inputs, labels in test_loader:\n",
        "        inputs, labels = inputs.to(device), labels.to(device)\n",
        "\n",
        "        outputs = trained_googlenet_model(inputs)\n",
        "        _, predicted = torch.max(outputs, 1)\n",
        "\n",
        "        googlenet_all_preds.extend(predicted.cpu().numpy())\n",
        "        googlenet_all_labels.extend(labels.cpu().numpy())\n",
        "\n",
        "class_names = test_loader.dataset.classes\n",
        "\n",
        "print(\"--- GoogLeNet Classification Report ---\")\n",
        "print(classification_report(googlenet_all_labels, googlenet_all_preds, target_names=class_names))"
      ],
      "metadata": {
        "trusted": true,
        "execution": {
          "iopub.status.busy": "2025-06-12T14:02:25.688188Z",
          "iopub.execute_input": "2025-06-12T14:02:25.688473Z",
          "iopub.status.idle": "2025-06-12T14:02:27.092455Z",
          "shell.execute_reply.started": "2025-06-12T14:02:25.688453Z",
          "shell.execute_reply": "2025-06-12T14:02:27.091713Z"
        },
        "id": "JO7rFqG43Mox",
        "colab": {
          "base_uri": "https://localhost:8080/"
        },
        "outputId": "8dc1c949-1eb6-4d91-d214-ffaf2b46cffe"
      },
      "outputs": [
        {
          "output_type": "stream",
          "name": "stdout",
          "text": [
            "--- GoogLeNet Classification Report ---\n",
            "              precision    recall  f1-score   support\n",
            "\n",
            "       paper       0.96      0.92      0.94       147\n",
            "        rock       0.94      0.90      0.92       147\n",
            "    scissors       0.88      0.96      0.92       147\n",
            "\n",
            "    accuracy                           0.93       441\n",
            "   macro avg       0.93      0.93      0.93       441\n",
            "weighted avg       0.93      0.93      0.93       441\n",
            "\n"
          ]
        }
      ],
      "execution_count": 34
    },
    {
      "cell_type": "code",
      "source": [
        "import seaborn as sns\n",
        "import matplotlib.pyplot as plt\n",
        "from sklearn.metrics import confusion_matrix\n",
        "\n",
        "googlenet_cm = confusion_matrix(googlenet_all_labels, googlenet_all_preds)\n",
        "\n",
        "plt.figure(figsize=(8, 6))\n",
        "sns.heatmap(googlenet_cm, annot=True, fmt='d', cmap='Purples',\n",
        "            xticklabels=class_names, yticklabels=class_names)\n",
        "\n",
        "plt.title('GoogLeNet Confusion Matrix')\n",
        "plt.ylabel('Actual Label')\n",
        "plt.xlabel('Predicted Label')\n",
        "plt.show()"
      ],
      "metadata": {
        "trusted": true,
        "execution": {
          "iopub.status.busy": "2025-06-12T14:02:30.687291Z",
          "iopub.execute_input": "2025-06-12T14:02:30.687911Z",
          "iopub.status.idle": "2025-06-12T14:02:30.880311Z",
          "shell.execute_reply.started": "2025-06-12T14:02:30.687886Z",
          "shell.execute_reply": "2025-06-12T14:02:30.879551Z"
        },
        "id": "JOigSbjz3Mox",
        "colab": {
          "base_uri": "https://localhost:8080/",
          "height": 564
        },
        "outputId": "6b7bb0a4-9849-4551-b92b-abec73a1b029"
      },
      "outputs": [
        {
          "output_type": "display_data",
          "data": {
            "text/plain": [
              "<Figure size 800x600 with 2 Axes>"
            ],
            "image/png": "[encoded data removed]"
          },
          "metadata": {}
        }
      ],
      "execution_count": 35
    },
    {
      "cell_type": "markdown",
      "source": [
        "**Number Of Parameters**"
      ],
      "metadata": {
        "id": "4tDA6nFv3Mox"
      }
    },
    {
      "cell_type": "code",
      "source": [
        "from torchsummary import summary\n",
        "print(\"--- Summary for CustomCNNModel ---\")\n",
        "device = torch.device(\"cuda\" if torch.cuda.is_available() else \"cpu\")\n",
        "cnn_model = CustomCNNModel().to(device)\n",
        "summary(cnn_model, input_size=(3, 224, 224))\n",
        "\n",
        "\n",
        "PATH = \"custom_cnn_model.pth\"\n",
        "torch.save(cnn_model.state_dict(), PATH)\n",
        "print(f\"\\nCustomCNNModel state dictionary saved to {PATH}\")"
      ],
      "metadata": {
        "trusted": true,
        "execution": {
          "iopub.status.busy": "2025-06-12T15:37:20.341006Z",
          "iopub.execute_input": "2025-06-12T15:37:20.341626Z",
          "iopub.status.idle": "2025-06-12T15:37:20.484995Z",
          "shell.execute_reply.started": "2025-06-12T15:37:20.341604Z",
          "shell.execute_reply": "2025-06-12T15:37:20.484333Z"
        },
        "collapsed": true,
        "jupyter": {
          "outputs_hidden": true
        },
        "id": "I0_c7gZr3Mox",
        "colab": {
          "base_uri": "https://localhost:8080/"
        },
        "outputId": "c757dd84-5852-4279-dd28-39b220936b4a"
      },
      "outputs": [
        {
          "output_type": "stream",
          "name": "stdout",
          "text": [
            "--- Summary for CustomCNNModel ---\n",
            "----------------------------------------------------------------\n",
            "        Layer (type)               Output Shape         Param #\n",
            "================================================================\n",
            "            Conv2d-1         [-1, 10, 223, 223]             130\n",
            "              ReLU-2         [-1, 10, 223, 223]               0\n",
            "         MaxPool2d-3         [-1, 10, 111, 111]               0\n",
            "            Conv2d-4         [-1, 32, 110, 110]           1,312\n",
            "              ReLU-5         [-1, 32, 110, 110]               0\n",
            "         MaxPool2d-6           [-1, 32, 55, 55]               0\n",
            "            Conv2d-7           [-1, 64, 54, 54]           8,256\n",
            "              ReLU-8           [-1, 64, 54, 54]               0\n",
            "         MaxPool2d-9           [-1, 64, 27, 27]               0\n",
            "          Flatten-10                [-1, 46656]               0\n",
            "           Linear-11                  [-1, 128]       5,972,096\n",
            "             ReLU-12                  [-1, 128]               0\n",
            "          Dropout-13                  [-1, 128]               0\n",
            "           Linear-14                    [-1, 3]             387\n",
            "================================================================\n",
            "Total params: 5,982,181\n",
            "Trainable params: 5,982,181\n",
            "Non-trainable params: 0\n",
            "----------------------------------------------------------------\n",
            "Input size (MB): 0.57\n",
            "Forward/backward pass size (MB): 18.74\n",
            "Params size (MB): 22.82\n",
            "Estimated Total Size (MB): 42.13\n",
            "----------------------------------------------------------------\n",
            "\n",
            "CustomCNNModel state dictionary saved to custom_cnn_model.pth\n"
          ]
        }
      ],
      "execution_count": 36
    },
    {
      "cell_type": "code",
      "source": [
        "import torch\n",
        "import torch.nn as nn\n",
        "import torchvision.models as models\n",
        "from torchvision.models import VGG16_Weights\n",
        "from torchsummary import summary\n",
        "\n",
        "def get_vgg16_model():\n",
        "    vgg16 = models.vgg16(weights=VGG16_Weights.IMAGENET1K_V1)\n",
        "    for param in vgg16.features.parameters():\n",
        "        param.requires_grad = False\n",
        "    num_features = vgg16.classifier[-1].in_features\n",
        "    vgg16.classifier[-1] = nn.Linear(num_features, 3)\n",
        "    return vgg16\n",
        "\n",
        "print(\"--- Summary for VGG16 ---\")\n",
        "device = torch.device(\"cuda\" if torch.cuda.is_available() else \"cpu\")\n",
        "vgg16_model = get_vgg16_model().to(device)\n",
        "summary(vgg16_model, input_size=(3, 224, 224))\n",
        "\n",
        "\n",
        "PATH = \"vgg16_model.pth\"\n",
        "torch.save(vgg16_model.state_dict(), PATH)\n",
        "print(f\"\\nVGG16 model state dictionary saved to {PATH}\")"
      ],
      "metadata": {
        "trusted": true,
        "execution": {
          "iopub.status.busy": "2025-06-12T15:38:11.626826Z",
          "iopub.execute_input": "2025-06-12T15:38:11.627351Z",
          "iopub.status.idle": "2025-06-12T15:38:14.483086Z",
          "shell.execute_reply.started": "2025-06-12T15:38:11.627327Z",
          "shell.execute_reply": "2025-06-12T15:38:14.482346Z"
        },
        "collapsed": true,
        "jupyter": {
          "outputs_hidden": true
        },
        "id": "Cd2N_uDb3Mox",
        "colab": {
          "base_uri": "https://localhost:8080/"
        },
        "outputId": "c9eb2388-dae5-4cee-dda8-2fdee4cf5652"
      },
      "outputs": [
        {
          "output_type": "stream",
          "name": "stdout",
          "text": [
            "--- Summary for VGG16 ---\n",
            "----------------------------------------------------------------\n",
            "        Layer (type)               Output Shape         Param #\n",
            "================================================================\n",
            "            Conv2d-1         [-1, 64, 224, 224]           1,792\n",
            "              ReLU-2         [-1, 64, 224, 224]               0\n",
            "            Conv2d-3         [-1, 64, 224, 224]          36,928\n",
            "              ReLU-4         [-1, 64, 224, 224]               0\n",
            "         MaxPool2d-5         [-1, 64, 112, 112]               0\n",
            "            Conv2d-6        [-1, 128, 112, 112]          73,856\n",
            "              ReLU-7        [-1, 128, 112, 112]               0\n",
            "            Conv2d-8        [-1, 128, 112, 112]         147,584\n",
            "              ReLU-9        [-1, 128, 112, 112]               0\n",
            "        MaxPool2d-10          [-1, 128, 56, 56]               0\n",
            "           Conv2d-11          [-1, 256, 56, 56]         295,168\n",
            "             ReLU-12          [-1, 256, 56, 56]               0\n",
            "           Conv2d-13          [-1, 256, 56, 56]         590,080\n",
            "             ReLU-14          [-1, 256, 56, 56]               0\n",
            "           Conv2d-15          [-1, 256, 56, 56]         590,080\n",
            "             ReLU-16          [-1, 256, 56, 56]               0\n",
            "        MaxPool2d-17          [-1, 256, 28, 28]               0\n",
            "           Conv2d-18          [-1, 512, 28, 28]       1,180,160\n",
            "             ReLU-19          [-1, 512, 28, 28]               0\n",
            "           Conv2d-20          [-1, 512, 28, 28]       2,359,808\n",
            "             ReLU-21          [-1, 512, 28, 28]               0\n",
            "           Conv2d-22          [-1, 512, 28, 28]       2,359,808\n",
            "             ReLU-23          [-1, 512, 28, 28]               0\n",
            "        MaxPool2d-24          [-1, 512, 14, 14]               0\n",
            "           Conv2d-25          [-1, 512, 14, 14]       2,359,808\n",
            "             ReLU-26          [-1, 512, 14, 14]               0\n",
            "           Conv2d-27          [-1, 512, 14, 14]       2,359,808\n",
            "             ReLU-28          [-1, 512, 14, 14]               0\n",
            "           Conv2d-29          [-1, 512, 14, 14]       2,359,808\n",
            "             ReLU-30          [-1, 512, 14, 14]               0\n",
            "        MaxPool2d-31            [-1, 512, 7, 7]               0\n",
            "AdaptiveAvgPool2d-32            [-1, 512, 7, 7]               0\n",
            "           Linear-33                 [-1, 4096]     102,764,544\n",
            "             ReLU-34                 [-1, 4096]               0\n",
            "          Dropout-35                 [-1, 4096]               0\n",
            "           Linear-36                 [-1, 4096]      16,781,312\n",
            "             ReLU-37                 [-1, 4096]               0\n",
            "          Dropout-38                 [-1, 4096]               0\n",
            "           Linear-39                    [-1, 3]          12,291\n",
            "================================================================\n",
            "Total params: 134,272,835\n",
            "Trainable params: 119,558,147\n",
            "Non-trainable params: 14,714,688\n",
            "----------------------------------------------------------------\n",
            "Input size (MB): 0.57\n",
            "Forward/backward pass size (MB): 218.77\n",
            "Params size (MB): 512.21\n",
            "Estimated Total Size (MB): 731.56\n",
            "----------------------------------------------------------------\n",
            "\n",
            "VGG16 model state dictionary saved to vgg16_model.pth\n"
          ]
        }
      ],
      "execution_count": 37
    },
    {
      "cell_type": "code",
      "source": [
        "import torch\n",
        "import torch.nn as nn\n",
        "import torchvision.models as models\n",
        "from torchvision.models import ResNet50_Weights\n",
        "from torchsummary import summary\n",
        "\n",
        "def get_resnet50_model():\n",
        "    resnet50 = models.resnet50(weights=ResNet50_Weights.IMAGENET1K_V1)\n",
        "    for param in resnet50.parameters():\n",
        "        param.requires_grad = False\n",
        "    num_ftrs = resnet50.fc.in_features\n",
        "    resnet50.fc = nn.Linear(num_ftrs, 3)\n",
        "    return resnet50\n",
        "\n",
        "print(\"--- Summary for ResNet50 ---\")\n",
        "device = torch.device(\"cuda\" if torch.cuda.is_available() else \"cpu\")\n",
        "resnet_model = get_resnet50_model().to(device)\n",
        "summary(resnet_model, input_size=(3, 224, 224))\n",
        "\n",
        "\n",
        "PATH = \"resnet50_model.pth\"\n",
        "torch.save(resnet_model.state_dict(), PATH)\n",
        "print(f\"\\nResNet50 model state dictionary saved to {PATH}\")"
      ],
      "metadata": {
        "trusted": true,
        "execution": {
          "iopub.status.busy": "2025-06-12T15:38:32.204152Z",
          "iopub.execute_input": "2025-06-12T15:38:32.204425Z",
          "iopub.status.idle": "2025-06-12T15:38:33.382877Z",
          "shell.execute_reply.started": "2025-06-12T15:38:32.204406Z",
          "shell.execute_reply": "2025-06-12T15:38:33.382018Z"
        },
        "collapsed": true,
        "jupyter": {
          "outputs_hidden": true
        },
        "id": "JOcAk28U3Mox",
        "colab": {
          "base_uri": "https://localhost:8080/"
        },
        "outputId": "f09c5171-5676-487f-8f99-5a1d67832bf9"
      },
      "outputs": [
        {
          "output_type": "stream",
          "name": "stdout",
          "text": [
            "--- Summary for ResNet50 ---\n",
            "----------------------------------------------------------------\n",
            "        Layer (type)               Output Shape         Param #\n",
            "================================================================\n",
            "            Conv2d-1         [-1, 64, 112, 112]           9,408\n",
            "       BatchNorm2d-2         [-1, 64, 112, 112]             128\n",
            "              ReLU-3         [-1, 64, 112, 112]               0\n",
            "         MaxPool2d-4           [-1, 64, 56, 56]               0\n",
            "            Conv2d-5           [-1, 64, 56, 56]           4,096\n",
            "       BatchNorm2d-6           [-1, 64, 56, 56]             128\n",
            "              ReLU-7           [-1, 64, 56, 56]               0\n",
            "            Conv2d-8           [-1, 64, 56, 56]          36,864\n",
            "       BatchNorm2d-9           [-1, 64, 56, 56]             128\n",
            "             ReLU-10           [-1, 64, 56, 56]               0\n",
            "           Conv2d-11          [-1, 256, 56, 56]          16,384\n",
            "      BatchNorm2d-12          [-1, 256, 56, 56]             512\n",
            "           Conv2d-13          [-1, 256, 56, 56]          16,384\n",
            "      BatchNorm2d-14          [-1, 256, 56, 56]             512\n",
            "             ReLU-15          [-1, 256, 56, 56]               0\n",
            "       Bottleneck-16          [-1, 256, 56, 56]               0\n",
            "           Conv2d-17           [-1, 64, 56, 56]          16,384\n",
            "      BatchNorm2d-18           [-1, 64, 56, 56]             128\n",
            "             ReLU-19           [-1, 64, 56, 56]               0\n",
            "           Conv2d-20           [-1, 64, 56, 56]          36,864\n",
            "      BatchNorm2d-21           [-1, 64, 56, 56]             128\n",
            "             ReLU-22           [-1, 64, 56, 56]               0\n",
            "           Conv2d-23          [-1, 256, 56, 56]          16,384\n",
            "      BatchNorm2d-24          [-1, 256, 56, 56]             512\n",
            "             ReLU-25          [-1, 256, 56, 56]               0\n",
            "       Bottleneck-26          [-1, 256, 56, 56]               0\n",
            "           Conv2d-27           [-1, 64, 56, 56]          16,384\n",
            "      BatchNorm2d-28           [-1, 64, 56, 56]             128\n",
            "             ReLU-29           [-1, 64, 56, 56]               0\n",
            "           Conv2d-30           [-1, 64, 56, 56]          36,864\n",
            "      BatchNorm2d-31           [-1, 64, 56, 56]             128\n",
            "             ReLU-32           [-1, 64, 56, 56]               0\n",
            "           Conv2d-33          [-1, 256, 56, 56]          16,384\n",
            "      BatchNorm2d-34          [-1, 256, 56, 56]             512\n",
            "             ReLU-35          [-1, 256, 56, 56]               0\n",
            "       Bottleneck-36          [-1, 256, 56, 56]               0\n",
            "           Conv2d-37          [-1, 128, 56, 56]          32,768\n",
            "      BatchNorm2d-38          [-1, 128, 56, 56]             256\n",
            "             ReLU-39          [-1, 128, 56, 56]               0\n",
            "           Conv2d-40          [-1, 128, 28, 28]         147,456\n",
            "      BatchNorm2d-41          [-1, 128, 28, 28]             256\n",
            "             ReLU-42          [-1, 128, 28, 28]               0\n",
            "           Conv2d-43          [-1, 512, 28, 28]          65,536\n",
            "      BatchNorm2d-44          [-1, 512, 28, 28]           1,024\n",
            "           Conv2d-45          [-1, 512, 28, 28]         131,072\n",
            "      BatchNorm2d-46          [-1, 512, 28, 28]           1,024\n",
            "             ReLU-47          [-1, 512, 28, 28]               0\n",
            "       Bottleneck-48          [-1, 512, 28, 28]               0\n",
            "           Conv2d-49          [-1, 128, 28, 28]          65,536\n",
            "      BatchNorm2d-50          [-1, 128, 28, 28]             256\n",
            "             ReLU-51          [-1, 128, 28, 28]               0\n",
            "           Conv2d-52          [-1, 128, 28, 28]         147,456\n",
            "      BatchNorm2d-53          [-1, 128, 28, 28]             256\n",
            "             ReLU-54          [-1, 128, 28, 28]               0\n",
            "           Conv2d-55          [-1, 512, 28, 28]          65,536\n",
            "      BatchNorm2d-56          [-1, 512, 28, 28]           1,024\n",
            "             ReLU-57          [-1, 512, 28, 28]               0\n",
            "       Bottleneck-58          [-1, 512, 28, 28]               0\n",
            "           Conv2d-59          [-1, 128, 28, 28]          65,536\n",
            "      BatchNorm2d-60          [-1, 128, 28, 28]             256\n",
            "             ReLU-61          [-1, 128, 28, 28]               0\n",
            "           Conv2d-62          [-1, 128, 28, 28]         147,456\n",
            "      BatchNorm2d-63          [-1, 128, 28, 28]             256\n",
            "             ReLU-64          [-1, 128, 28, 28]               0\n",
            "           Conv2d-65          [-1, 512, 28, 28]          65,536\n",
            "      BatchNorm2d-66          [-1, 512, 28, 28]           1,024\n",
            "             ReLU-67          [-1, 512, 28, 28]               0\n",
            "       Bottleneck-68          [-1, 512, 28, 28]               0\n",
            "           Conv2d-69          [-1, 128, 28, 28]          65,536\n",
            "      BatchNorm2d-70          [-1, 128, 28, 28]             256\n",
            "             ReLU-71          [-1, 128, 28, 28]               0\n",
            "           Conv2d-72          [-1, 128, 28, 28]         147,456\n",
            "      BatchNorm2d-73          [-1, 128, 28, 28]             256\n",
            "             ReLU-74          [-1, 128, 28, 28]               0\n",
            "           Conv2d-75          [-1, 512, 28, 28]          65,536\n",
            "      BatchNorm2d-76          [-1, 512, 28, 28]           1,024\n",
            "             ReLU-77          [-1, 512, 28, 28]               0\n",
            "       Bottleneck-78          [-1, 512, 28, 28]               0\n",
            "           Conv2d-79          [-1, 256, 28, 28]         131,072\n",
            "      BatchNorm2d-80          [-1, 256, 28, 28]             512\n",
            "             ReLU-81          [-1, 256, 28, 28]               0\n",
            "           Conv2d-82          [-1, 256, 14, 14]         589,824\n",
            "      BatchNorm2d-83          [-1, 256, 14, 14]             512\n",
            "             ReLU-84          [-1, 256, 14, 14]               0\n",
            "           Conv2d-85         [-1, 1024, 14, 14]         262,144\n",
            "      BatchNorm2d-86         [-1, 1024, 14, 14]           2,048\n",
            "           Conv2d-87         [-1, 1024, 14, 14]         524,288\n",
            "      BatchNorm2d-88         [-1, 1024, 14, 14]           2,048\n",
            "             ReLU-89         [-1, 1024, 14, 14]               0\n",
            "       Bottleneck-90         [-1, 1024, 14, 14]               0\n",
            "           Conv2d-91          [-1, 256, 14, 14]         262,144\n",
            "      BatchNorm2d-92          [-1, 256, 14, 14]             512\n",
            "             ReLU-93          [-1, 256, 14, 14]               0\n",
            "           Conv2d-94          [-1, 256, 14, 14]         589,824\n",
            "      BatchNorm2d-95          [-1, 256, 14, 14]             512\n",
            "             ReLU-96          [-1, 256, 14, 14]               0\n",
            "           Conv2d-97         [-1, 1024, 14, 14]         262,144\n",
            "      BatchNorm2d-98         [-1, 1024, 14, 14]           2,048\n",
            "             ReLU-99         [-1, 1024, 14, 14]               0\n",
            "      Bottleneck-100         [-1, 1024, 14, 14]               0\n",
            "          Conv2d-101          [-1, 256, 14, 14]         262,144\n",
            "     BatchNorm2d-102          [-1, 256, 14, 14]             512\n",
            "            ReLU-103          [-1, 256, 14, 14]               0\n",
            "          Conv2d-104          [-1, 256, 14, 14]         589,824\n",
            "     BatchNorm2d-105          [-1, 256, 14, 14]             512\n",
            "            ReLU-106          [-1, 256, 14, 14]               0\n",
            "          Conv2d-107         [-1, 1024, 14, 14]         262,144\n",
            "     BatchNorm2d-108         [-1, 1024, 14, 14]           2,048\n",
            "            ReLU-109         [-1, 1024, 14, 14]               0\n",
            "      Bottleneck-110         [-1, 1024, 14, 14]               0\n",
            "          Conv2d-111          [-1, 256, 14, 14]         262,144\n",
            "     BatchNorm2d-112          [-1, 256, 14, 14]             512\n",
            "            ReLU-113          [-1, 256, 14, 14]               0\n",
            "          Conv2d-114          [-1, 256, 14, 14]         589,824\n",
            "     BatchNorm2d-115          [-1, 256, 14, 14]             512\n",
            "            ReLU-116          [-1, 256, 14, 14]               0\n",
            "          Conv2d-117         [-1, 1024, 14, 14]         262,144\n",
            "     BatchNorm2d-118         [-1, 1024, 14, 14]           2,048\n",
            "            ReLU-119         [-1, 1024, 14, 14]               0\n",
            "      Bottleneck-120         [-1, 1024, 14, 14]               0\n",
            "          Conv2d-121          [-1, 256, 14, 14]         262,144\n",
            "     BatchNorm2d-122          [-1, 256, 14, 14]             512\n",
            "            ReLU-123          [-1, 256, 14, 14]               0\n",
            "          Conv2d-124          [-1, 256, 14, 14]         589,824\n",
            "     BatchNorm2d-125          [-1, 256, 14, 14]             512\n",
            "            ReLU-126          [-1, 256, 14, 14]               0\n",
            "          Conv2d-127         [-1, 1024, 14, 14]         262,144\n",
            "     BatchNorm2d-128         [-1, 1024, 14, 14]           2,048\n",
            "            ReLU-129         [-1, 1024, 14, 14]               0\n",
            "      Bottleneck-130         [-1, 1024, 14, 14]               0\n",
            "          Conv2d-131          [-1, 256, 14, 14]         262,144\n",
            "     BatchNorm2d-132          [-1, 256, 14, 14]             512\n",
            "            ReLU-133          [-1, 256, 14, 14]               0\n",
            "          Conv2d-134          [-1, 256, 14, 14]         589,824\n",
            "     BatchNorm2d-135          [-1, 256, 14, 14]             512\n",
            "            ReLU-136          [-1, 256, 14, 14]               0\n",
            "          Conv2d-137         [-1, 1024, 14, 14]         262,144\n",
            "     BatchNorm2d-138         [-1, 1024, 14, 14]           2,048\n",
            "            ReLU-139         [-1, 1024, 14, 14]               0\n",
            "      Bottleneck-140         [-1, 1024, 14, 14]               0\n",
            "          Conv2d-141          [-1, 512, 14, 14]         524,288\n",
            "     BatchNorm2d-142          [-1, 512, 14, 14]           1,024\n",
            "            ReLU-143          [-1, 512, 14, 14]               0\n",
            "          Conv2d-144            [-1, 512, 7, 7]       2,359,296\n",
            "     BatchNorm2d-145            [-1, 512, 7, 7]           1,024\n",
            "            ReLU-146            [-1, 512, 7, 7]               0\n",
            "          Conv2d-147           [-1, 2048, 7, 7]       1,048,576\n",
            "     BatchNorm2d-148           [-1, 2048, 7, 7]           4,096\n",
            "          Conv2d-149           [-1, 2048, 7, 7]       2,097,152\n",
            "     BatchNorm2d-150           [-1, 2048, 7, 7]           4,096\n",
            "            ReLU-151           [-1, 2048, 7, 7]               0\n",
            "      Bottleneck-152           [-1, 2048, 7, 7]               0\n",
            "          Conv2d-153            [-1, 512, 7, 7]       1,048,576\n",
            "     BatchNorm2d-154            [-1, 512, 7, 7]           1,024\n",
            "            ReLU-155            [-1, 512, 7, 7]               0\n",
            "          Conv2d-156            [-1, 512, 7, 7]       2,359,296\n",
            "     BatchNorm2d-157            [-1, 512, 7, 7]           1,024\n",
            "            ReLU-158            [-1, 512, 7, 7]               0\n",
            "          Conv2d-159           [-1, 2048, 7, 7]       1,048,576\n",
            "     BatchNorm2d-160           [-1, 2048, 7, 7]           4,096\n",
            "            ReLU-161           [-1, 2048, 7, 7]               0\n",
            "      Bottleneck-162           [-1, 2048, 7, 7]               0\n",
            "          Conv2d-163            [-1, 512, 7, 7]       1,048,576\n",
            "     BatchNorm2d-164            [-1, 512, 7, 7]           1,024\n",
            "            ReLU-165            [-1, 512, 7, 7]               0\n",
            "          Conv2d-166            [-1, 512, 7, 7]       2,359,296\n",
            "     BatchNorm2d-167            [-1, 512, 7, 7]           1,024\n",
            "            ReLU-168            [-1, 512, 7, 7]               0\n",
            "          Conv2d-169           [-1, 2048, 7, 7]       1,048,576\n",
            "     BatchNorm2d-170           [-1, 2048, 7, 7]           4,096\n",
            "            ReLU-171           [-1, 2048, 7, 7]               0\n",
            "      Bottleneck-172           [-1, 2048, 7, 7]               0\n",
            "AdaptiveAvgPool2d-173           [-1, 2048, 1, 1]               0\n",
            "          Linear-174                    [-1, 3]           6,147\n",
            "================================================================\n",
            "Total params: 23,514,179\n",
            "Trainable params: 6,147\n",
            "Non-trainable params: 23,508,032\n",
            "----------------------------------------------------------------\n",
            "Input size (MB): 0.57\n",
            "Forward/backward pass size (MB): 286.55\n",
            "Params size (MB): 89.70\n",
            "Estimated Total Size (MB): 376.82\n",
            "----------------------------------------------------------------\n",
            "\n",
            "ResNet50 model state dictionary saved to resnet50_model.pth\n"
          ]
        }
      ],
      "execution_count": 38
    },
    {
      "cell_type": "code",
      "source": [
        "import torch\n",
        "import torch.nn as nn\n",
        "import torchvision.models as models\n",
        "from torchvision.models import GoogLeNet_Weights\n",
        "from torchsummary import summary\n",
        "\n",
        "def get_googlenet_model():\n",
        "    googlenet = models.googlenet(weights=GoogLeNet_Weights.IMAGENET1K_V1, aux_logits=True)\n",
        "\n",
        "    for param in googlenet.parameters():\n",
        "        param.requires_grad = False\n",
        "\n",
        "    num_ftrs = googlenet.fc.in_features\n",
        "    googlenet.fc = nn.Linear(num_ftrs, 3)\n",
        "\n",
        "    googlenet.aux1.fc2 = nn.Linear(googlenet.aux1.fc2.in_features, 3)\n",
        "    googlenet.aux2.fc2 = nn.Linear(googlenet.aux2.fc2.in_features, 3)\n",
        "\n",
        "    return googlenet\n",
        "\n",
        "print(\"--- Summary for GoogLeNet ---\")\n",
        "device = torch.device(\"cuda\" if torch.cuda.is_available() else \"cpu\")\n",
        "googlenet_model = get_googlenet_model().to(device)\n",
        "\n",
        "summary(googlenet_model, input_size=(3, 224, 224))\n",
        "\n",
        "\n",
        "PATH = \"googlenet_model.pth\"\n",
        "torch.save(googlenet_model.state_dict(), PATH)\n",
        "print(f\"\\nGoogLeNet model state dictionary saved to {PATH}\")"
      ],
      "metadata": {
        "trusted": true,
        "execution": {
          "iopub.status.busy": "2025-06-12T15:46:01.267707Z",
          "iopub.execute_input": "2025-06-12T15:46:01.268221Z",
          "iopub.status.idle": "2025-06-12T15:46:01.612330Z",
          "shell.execute_reply.started": "2025-06-12T15:46:01.268200Z",
          "shell.execute_reply": "2025-06-12T15:46:01.611587Z"
        },
        "jupyter": {
          "outputs_hidden": true
        },
        "id": "1IHkwgG33Mo1",
        "colab": {
          "base_uri": "https://localhost:8080/"
        },
        "outputId": "5c23ff6a-39e7-4b36-8239-a3036e56e7bd"
      },
      "outputs": [
        {
          "output_type": "stream",
          "name": "stdout",
          "text": [
            "--- Summary for GoogLeNet ---\n"
          ]
        },
        {
          "output_type": "stream",
          "name": "stderr",
          "text": [
            "/usr/local/lib/python3.11/dist-packages/torchvision/models/googlenet.py:341: UserWarning: auxiliary heads in the pretrained googlenet model are NOT pretrained, so make sure to train them\n",
            "  warnings.warn(\n"
          ]
        },
        {
          "output_type": "stream",
          "name": "stdout",
          "text": [
            "----------------------------------------------------------------\n",
            "        Layer (type)               Output Shape         Param #\n",
            "================================================================\n",
            "            Conv2d-1         [-1, 64, 112, 112]           9,408\n",
            "       BatchNorm2d-2         [-1, 64, 112, 112]             128\n",
            "       BasicConv2d-3         [-1, 64, 112, 112]               0\n",
            "         MaxPool2d-4           [-1, 64, 56, 56]               0\n",
            "            Conv2d-5           [-1, 64, 56, 56]           4,096\n",
            "       BatchNorm2d-6           [-1, 64, 56, 56]             128\n",
            "       BasicConv2d-7           [-1, 64, 56, 56]               0\n",
            "            Conv2d-8          [-1, 192, 56, 56]         110,592\n",
            "       BatchNorm2d-9          [-1, 192, 56, 56]             384\n",
            "      BasicConv2d-10          [-1, 192, 56, 56]               0\n",
            "        MaxPool2d-11          [-1, 192, 28, 28]               0\n",
            "           Conv2d-12           [-1, 64, 28, 28]          12,288\n",
            "      BatchNorm2d-13           [-1, 64, 28, 28]             128\n",
            "      BasicConv2d-14           [-1, 64, 28, 28]               0\n",
            "           Conv2d-15           [-1, 96, 28, 28]          18,432\n",
            "      BatchNorm2d-16           [-1, 96, 28, 28]             192\n",
            "      BasicConv2d-17           [-1, 96, 28, 28]               0\n",
            "           Conv2d-18          [-1, 128, 28, 28]         110,592\n",
            "      BatchNorm2d-19          [-1, 128, 28, 28]             256\n",
            "      BasicConv2d-20          [-1, 128, 28, 28]               0\n",
            "           Conv2d-21           [-1, 16, 28, 28]           3,072\n",
            "      BatchNorm2d-22           [-1, 16, 28, 28]              32\n",
            "      BasicConv2d-23           [-1, 16, 28, 28]               0\n",
            "           Conv2d-24           [-1, 32, 28, 28]           4,608\n",
            "      BatchNorm2d-25           [-1, 32, 28, 28]              64\n",
            "      BasicConv2d-26           [-1, 32, 28, 28]               0\n",
            "        MaxPool2d-27          [-1, 192, 28, 28]               0\n",
            "           Conv2d-28           [-1, 32, 28, 28]           6,144\n",
            "      BatchNorm2d-29           [-1, 32, 28, 28]              64\n",
            "      BasicConv2d-30           [-1, 32, 28, 28]               0\n",
            "        Inception-31          [-1, 256, 28, 28]               0\n",
            "           Conv2d-32          [-1, 128, 28, 28]          32,768\n",
            "      BatchNorm2d-33          [-1, 128, 28, 28]             256\n",
            "      BasicConv2d-34          [-1, 128, 28, 28]               0\n",
            "           Conv2d-35          [-1, 128, 28, 28]          32,768\n",
            "      BatchNorm2d-36          [-1, 128, 28, 28]             256\n",
            "      BasicConv2d-37          [-1, 128, 28, 28]               0\n",
            "           Conv2d-38          [-1, 192, 28, 28]         221,184\n",
            "      BatchNorm2d-39          [-1, 192, 28, 28]             384\n",
            "      BasicConv2d-40          [-1, 192, 28, 28]               0\n",
            "           Conv2d-41           [-1, 32, 28, 28]           8,192\n",
            "      BatchNorm2d-42           [-1, 32, 28, 28]              64\n",
            "      BasicConv2d-43           [-1, 32, 28, 28]               0\n",
            "           Conv2d-44           [-1, 96, 28, 28]          27,648\n",
            "      BatchNorm2d-45           [-1, 96, 28, 28]             192\n",
            "      BasicConv2d-46           [-1, 96, 28, 28]               0\n",
            "        MaxPool2d-47          [-1, 256, 28, 28]               0\n",
            "           Conv2d-48           [-1, 64, 28, 28]          16,384\n",
            "      BatchNorm2d-49           [-1, 64, 28, 28]             128\n",
            "      BasicConv2d-50           [-1, 64, 28, 28]               0\n",
            "        Inception-51          [-1, 480, 28, 28]               0\n",
            "        MaxPool2d-52          [-1, 480, 14, 14]               0\n",
            "           Conv2d-53          [-1, 192, 14, 14]          92,160\n",
            "      BatchNorm2d-54          [-1, 192, 14, 14]             384\n",
            "      BasicConv2d-55          [-1, 192, 14, 14]               0\n",
            "           Conv2d-56           [-1, 96, 14, 14]          46,080\n",
            "      BatchNorm2d-57           [-1, 96, 14, 14]             192\n",
            "      BasicConv2d-58           [-1, 96, 14, 14]               0\n",
            "           Conv2d-59          [-1, 208, 14, 14]         179,712\n",
            "      BatchNorm2d-60          [-1, 208, 14, 14]             416\n",
            "      BasicConv2d-61          [-1, 208, 14, 14]               0\n",
            "           Conv2d-62           [-1, 16, 14, 14]           7,680\n",
            "      BatchNorm2d-63           [-1, 16, 14, 14]              32\n",
            "      BasicConv2d-64           [-1, 16, 14, 14]               0\n",
            "           Conv2d-65           [-1, 48, 14, 14]           6,912\n",
            "      BatchNorm2d-66           [-1, 48, 14, 14]              96\n",
            "      BasicConv2d-67           [-1, 48, 14, 14]               0\n",
            "        MaxPool2d-68          [-1, 480, 14, 14]               0\n",
            "           Conv2d-69           [-1, 64, 14, 14]          30,720\n",
            "      BatchNorm2d-70           [-1, 64, 14, 14]             128\n",
            "      BasicConv2d-71           [-1, 64, 14, 14]               0\n",
            "        Inception-72          [-1, 512, 14, 14]               0\n",
            "           Conv2d-73            [-1, 128, 4, 4]          65,536\n",
            "      BatchNorm2d-74            [-1, 128, 4, 4]             256\n",
            "      BasicConv2d-75            [-1, 128, 4, 4]               0\n",
            "           Linear-76                 [-1, 1024]       2,098,176\n",
            "          Dropout-77                 [-1, 1024]               0\n",
            "           Linear-78                    [-1, 3]           3,075\n",
            "     InceptionAux-79                    [-1, 3]               0\n",
            "           Conv2d-80          [-1, 160, 14, 14]          81,920\n",
            "      BatchNorm2d-81          [-1, 160, 14, 14]             320\n",
            "      BasicConv2d-82          [-1, 160, 14, 14]               0\n",
            "           Conv2d-83          [-1, 112, 14, 14]          57,344\n",
            "      BatchNorm2d-84          [-1, 112, 14, 14]             224\n",
            "      BasicConv2d-85          [-1, 112, 14, 14]               0\n",
            "           Conv2d-86          [-1, 224, 14, 14]         225,792\n",
            "      BatchNorm2d-87          [-1, 224, 14, 14]             448\n",
            "      BasicConv2d-88          [-1, 224, 14, 14]               0\n",
            "           Conv2d-89           [-1, 24, 14, 14]          12,288\n",
            "      BatchNorm2d-90           [-1, 24, 14, 14]              48\n",
            "      BasicConv2d-91           [-1, 24, 14, 14]               0\n",
            "           Conv2d-92           [-1, 64, 14, 14]          13,824\n",
            "      BatchNorm2d-93           [-1, 64, 14, 14]             128\n",
            "      BasicConv2d-94           [-1, 64, 14, 14]               0\n",
            "        MaxPool2d-95          [-1, 512, 14, 14]               0\n",
            "           Conv2d-96           [-1, 64, 14, 14]          32,768\n",
            "      BatchNorm2d-97           [-1, 64, 14, 14]             128\n",
            "      BasicConv2d-98           [-1, 64, 14, 14]               0\n",
            "        Inception-99          [-1, 512, 14, 14]               0\n",
            "          Conv2d-100          [-1, 128, 14, 14]          65,536\n",
            "     BatchNorm2d-101          [-1, 128, 14, 14]             256\n",
            "     BasicConv2d-102          [-1, 128, 14, 14]               0\n",
            "          Conv2d-103          [-1, 128, 14, 14]          65,536\n",
            "     BatchNorm2d-104          [-1, 128, 14, 14]             256\n",
            "     BasicConv2d-105          [-1, 128, 14, 14]               0\n",
            "          Conv2d-106          [-1, 256, 14, 14]         294,912\n",
            "     BatchNorm2d-107          [-1, 256, 14, 14]             512\n",
            "     BasicConv2d-108          [-1, 256, 14, 14]               0\n",
            "          Conv2d-109           [-1, 24, 14, 14]          12,288\n",
            "     BatchNorm2d-110           [-1, 24, 14, 14]              48\n",
            "     BasicConv2d-111           [-1, 24, 14, 14]               0\n",
            "          Conv2d-112           [-1, 64, 14, 14]          13,824\n",
            "     BatchNorm2d-113           [-1, 64, 14, 14]             128\n",
            "     BasicConv2d-114           [-1, 64, 14, 14]               0\n",
            "       MaxPool2d-115          [-1, 512, 14, 14]               0\n",
            "          Conv2d-116           [-1, 64, 14, 14]          32,768\n",
            "     BatchNorm2d-117           [-1, 64, 14, 14]             128\n",
            "     BasicConv2d-118           [-1, 64, 14, 14]               0\n",
            "       Inception-119          [-1, 512, 14, 14]               0\n",
            "          Conv2d-120          [-1, 112, 14, 14]          57,344\n",
            "     BatchNorm2d-121          [-1, 112, 14, 14]             224\n",
            "     BasicConv2d-122          [-1, 112, 14, 14]               0\n",
            "          Conv2d-123          [-1, 144, 14, 14]          73,728\n",
            "     BatchNorm2d-124          [-1, 144, 14, 14]             288\n",
            "     BasicConv2d-125          [-1, 144, 14, 14]               0\n",
            "          Conv2d-126          [-1, 288, 14, 14]         373,248\n",
            "     BatchNorm2d-127          [-1, 288, 14, 14]             576\n",
            "     BasicConv2d-128          [-1, 288, 14, 14]               0\n",
            "          Conv2d-129           [-1, 32, 14, 14]          16,384\n",
            "     BatchNorm2d-130           [-1, 32, 14, 14]              64\n",
            "     BasicConv2d-131           [-1, 32, 14, 14]               0\n",
            "          Conv2d-132           [-1, 64, 14, 14]          18,432\n",
            "     BatchNorm2d-133           [-1, 64, 14, 14]             128\n",
            "     BasicConv2d-134           [-1, 64, 14, 14]               0\n",
            "       MaxPool2d-135          [-1, 512, 14, 14]               0\n",
            "          Conv2d-136           [-1, 64, 14, 14]          32,768\n",
            "     BatchNorm2d-137           [-1, 64, 14, 14]             128\n",
            "     BasicConv2d-138           [-1, 64, 14, 14]               0\n",
            "       Inception-139          [-1, 528, 14, 14]               0\n",
            "          Conv2d-140            [-1, 128, 4, 4]          67,584\n",
            "     BatchNorm2d-141            [-1, 128, 4, 4]             256\n",
            "     BasicConv2d-142            [-1, 128, 4, 4]               0\n",
            "          Linear-143                 [-1, 1024]       2,098,176\n",
            "         Dropout-144                 [-1, 1024]               0\n",
            "          Linear-145                    [-1, 3]           3,075\n",
            "    InceptionAux-146                    [-1, 3]               0\n",
            "          Conv2d-147          [-1, 256, 14, 14]         135,168\n",
            "     BatchNorm2d-148          [-1, 256, 14, 14]             512\n",
            "     BasicConv2d-149          [-1, 256, 14, 14]               0\n",
            "          Conv2d-150          [-1, 160, 14, 14]          84,480\n",
            "     BatchNorm2d-151          [-1, 160, 14, 14]             320\n",
            "     BasicConv2d-152          [-1, 160, 14, 14]               0\n",
            "          Conv2d-153          [-1, 320, 14, 14]         460,800\n",
            "     BatchNorm2d-154          [-1, 320, 14, 14]             640\n",
            "     BasicConv2d-155          [-1, 320, 14, 14]               0\n",
            "          Conv2d-156           [-1, 32, 14, 14]          16,896\n",
            "     BatchNorm2d-157           [-1, 32, 14, 14]              64\n",
            "     BasicConv2d-158           [-1, 32, 14, 14]               0\n",
            "          Conv2d-159          [-1, 128, 14, 14]          36,864\n",
            "     BatchNorm2d-160          [-1, 128, 14, 14]             256\n",
            "     BasicConv2d-161          [-1, 128, 14, 14]               0\n",
            "       MaxPool2d-162          [-1, 528, 14, 14]               0\n",
            "          Conv2d-163          [-1, 128, 14, 14]          67,584\n",
            "     BatchNorm2d-164          [-1, 128, 14, 14]             256\n",
            "     BasicConv2d-165          [-1, 128, 14, 14]               0\n",
            "       Inception-166          [-1, 832, 14, 14]               0\n",
            "       MaxPool2d-167            [-1, 832, 7, 7]               0\n",
            "          Conv2d-168            [-1, 256, 7, 7]         212,992\n",
            "     BatchNorm2d-169            [-1, 256, 7, 7]             512\n",
            "     BasicConv2d-170            [-1, 256, 7, 7]               0\n",
            "          Conv2d-171            [-1, 160, 7, 7]         133,120\n",
            "     BatchNorm2d-172            [-1, 160, 7, 7]             320\n",
            "     BasicConv2d-173            [-1, 160, 7, 7]               0\n",
            "          Conv2d-174            [-1, 320, 7, 7]         460,800\n",
            "     BatchNorm2d-175            [-1, 320, 7, 7]             640\n",
            "     BasicConv2d-176            [-1, 320, 7, 7]               0\n",
            "          Conv2d-177             [-1, 32, 7, 7]          26,624\n",
            "     BatchNorm2d-178             [-1, 32, 7, 7]              64\n",
            "     BasicConv2d-179             [-1, 32, 7, 7]               0\n",
            "          Conv2d-180            [-1, 128, 7, 7]          36,864\n",
            "     BatchNorm2d-181            [-1, 128, 7, 7]             256\n",
            "     BasicConv2d-182            [-1, 128, 7, 7]               0\n",
            "       MaxPool2d-183            [-1, 832, 7, 7]               0\n",
            "          Conv2d-184            [-1, 128, 7, 7]         106,496\n",
            "     BatchNorm2d-185            [-1, 128, 7, 7]             256\n",
            "     BasicConv2d-186            [-1, 128, 7, 7]               0\n",
            "       Inception-187            [-1, 832, 7, 7]               0\n",
            "          Conv2d-188            [-1, 384, 7, 7]         319,488\n",
            "     BatchNorm2d-189            [-1, 384, 7, 7]             768\n",
            "     BasicConv2d-190            [-1, 384, 7, 7]               0\n",
            "          Conv2d-191            [-1, 192, 7, 7]         159,744\n",
            "     BatchNorm2d-192            [-1, 192, 7, 7]             384\n",
            "     BasicConv2d-193            [-1, 192, 7, 7]               0\n",
            "          Conv2d-194            [-1, 384, 7, 7]         663,552\n",
            "     BatchNorm2d-195            [-1, 384, 7, 7]             768\n",
            "     BasicConv2d-196            [-1, 384, 7, 7]               0\n",
            "          Conv2d-197             [-1, 48, 7, 7]          39,936\n",
            "     BatchNorm2d-198             [-1, 48, 7, 7]              96\n",
            "     BasicConv2d-199             [-1, 48, 7, 7]               0\n",
            "          Conv2d-200            [-1, 128, 7, 7]          55,296\n",
            "     BatchNorm2d-201            [-1, 128, 7, 7]             256\n",
            "     BasicConv2d-202            [-1, 128, 7, 7]               0\n",
            "       MaxPool2d-203            [-1, 832, 7, 7]               0\n",
            "          Conv2d-204            [-1, 128, 7, 7]         106,496\n",
            "     BatchNorm2d-205            [-1, 128, 7, 7]             256\n",
            "     BasicConv2d-206            [-1, 128, 7, 7]               0\n",
            "       Inception-207           [-1, 1024, 7, 7]               0\n",
            "AdaptiveAvgPool2d-208           [-1, 1024, 1, 1]               0\n",
            "         Dropout-209                 [-1, 1024]               0\n",
            "          Linear-210                    [-1, 3]           3,075\n",
            "================================================================\n",
            "Total params: 9,939,113\n",
            "Trainable params: 9,225\n",
            "Non-trainable params: 9,929,888\n",
            "----------------------------------------------------------------\n",
            "Input size (MB): 0.57\n",
            "Forward/backward pass size (MB): 94.22\n",
            "Params size (MB): 37.91\n",
            "Estimated Total Size (MB): 132.71\n",
            "----------------------------------------------------------------\n",
            "\n",
            "GoogLeNet model state dictionary saved to googlenet_model.pth\n"
          ]
        }
      ],
      "execution_count": 39
    },
    {
      "cell_type": "code",
      "source": [
        "import torch\n",
        "\n",
        "\n",
        "CHECKPOINT_PATH = \"/content/googlenet_model.pth\"\n",
        "\n",
        "\n",
        "try:\n",
        "    # Load the saved object from the file\n",
        "    loaded_object = torch.load(CHECKPOINT_PATH, map_location='cpu')\n",
        "    print(f\"Successfully loaded file from: {CHECKPOINT_PATH}\\n\")\n",
        "\n",
        "    if isinstance(loaded_object, dict) and 'model_state_dict' in loaded_object:\n",
        "        state_dictionary = loaded_object['model_state_dict']\n",
        "    else:\n",
        "        state_dictionary = loaded_object\n",
        "\n",
        "    # --- 3. Inspect the Model's Parameters ---\n",
        "    print(\"--- Layers and Parameter Shapes in the Saved File ---\")\n",
        "\n",
        "    # Print the name and shape of every parameter tensor\n",
        "    for i, (param_name, param_tensor) in enumerate(state_dictionary.items()):\n",
        "        if i >= 25:\n",
        "            break\n",
        "        print(f\"{param_name: <30}\\t{param_tensor.size()}\")\n",
        "\n",
        "\n",
        "except FileNotFoundError:\n",
        "    print(f\"Error: The file '{CHECKPOINT_PATH}' was not found.\")\n",
        "    print(\"Please make sure you have run the code to save the model first.\")"
      ],
      "metadata": {
        "colab": {
          "base_uri": "https://localhost:8080/"
        },
        "id": "HBjrtC2qZKq8",
        "outputId": "23c407a4-d842-49fc-e1f6-64501636a3da"
      },
      "execution_count": 60,
      "outputs": [
        {
          "output_type": "stream",
          "name": "stdout",
          "text": [
            "Successfully loaded file from: /content/googlenet_model.pth\n",
            "\n",
            "--- Layers and Parameter Shapes in the Saved File ---\n",
            "conv1.conv.weight             \ttorch.Size([64, 3, 7, 7])\n",
            "conv1.bn.weight               \ttorch.Size([64])\n",
            "conv1.bn.bias                 \ttorch.Size([64])\n",
            "conv1.bn.running_mean         \ttorch.Size([64])\n",
            "conv1.bn.running_var          \ttorch.Size([64])\n",
            "conv1.bn.num_batches_tracked  \ttorch.Size([])\n",
            "conv2.conv.weight             \ttorch.Size([64, 64, 1, 1])\n",
            "conv2.bn.weight               \ttorch.Size([64])\n",
            "conv2.bn.bias                 \ttorch.Size([64])\n",
            "conv2.bn.running_mean         \ttorch.Size([64])\n",
            "conv2.bn.running_var          \ttorch.Size([64])\n",
            "conv2.bn.num_batches_tracked  \ttorch.Size([])\n",
            "conv3.conv.weight             \ttorch.Size([192, 64, 3, 3])\n",
            "conv3.bn.weight               \ttorch.Size([192])\n",
            "conv3.bn.bias                 \ttorch.Size([192])\n",
            "conv3.bn.running_mean         \ttorch.Size([192])\n",
            "conv3.bn.running_var          \ttorch.Size([192])\n",
            "conv3.bn.num_batches_tracked  \ttorch.Size([])\n",
            "inception3a.branch1.conv.weight\ttorch.Size([64, 192, 1, 1])\n",
            "inception3a.branch1.bn.weight \ttorch.Size([64])\n",
            "inception3a.branch1.bn.bias   \ttorch.Size([64])\n",
            "inception3a.branch1.bn.running_mean\ttorch.Size([64])\n",
            "inception3a.branch1.bn.running_var\ttorch.Size([64])\n",
            "inception3a.branch1.bn.num_batches_tracked\ttorch.Size([])\n",
            "inception3a.branch2.0.conv.weight\ttorch.Size([96, 192, 1, 1])\n"
          ]
        }
      ]
    },
    {
      "cell_type": "code",
      "source": [
        "# from PIL import Image\n",
        "# import torchvision.transforms as transforms\n",
        "\n",
        "\n",
        "# def predict_image(model_path, model_architecture, image_path, class_names):\n",
        "\n",
        "\n",
        "#     if model_architecture == 'resnet':\n",
        "#         model = get_resnet50_model()\n",
        "#     elif model_architecture == 'vgg':\n",
        "#         model = get_vgg16_model()\n",
        "\n",
        "#     else:\n",
        "#         print(\"Invalid model architecture specified.\")\n",
        "#         return\n",
        "\n",
        "\n",
        "#     model.load_state_dict(torch.load(model_path))\n",
        "#     model.eval()\n",
        "#     model.to(device)\n",
        "\n",
        "\n",
        "#     image_transform = transforms.Compose([\n",
        "#         transforms.Resize((224, 224)),\n",
        "#         transforms.ToTensor(),\n",
        "#         transforms.Normalize(mean=[0.485, 0.456, 0.406], std=[0.229, 0.224, 0.225])\n",
        "#     ])\n",
        "\n",
        "#     image = Image.open(image_path).convert('RGB')\n",
        "#     image_tensor = image_transform(image).unsqueeze(0)\n",
        "#     image_tensor = image_tensor.to(device)\n",
        "\n",
        "#     with torch.no_grad():\n",
        "#         outputs = model(image_tensor)\n",
        "#         _, predicted_idx = torch.max(outputs, 1)\n",
        "\n",
        "#     predicted_class = class_names[predicted_idx.item()]\n",
        "\n",
        "#     print(f\"The model predicts that the image is: {predicted_class}\")"
      ],
      "metadata": {
        "id": "Ajp11cjTC3U5"
      },
      "execution_count": 40,
      "outputs": []
    },
    {
      "cell_type": "code",
      "source": [
        "from PIL import Image\n",
        "import torchvision.transforms as transforms\n",
        "def predict_image(model_path, model_architecture, image_path, class_names):\n",
        "\n",
        "    if model_architecture == 'cnn':\n",
        "        model = CustomCNNModel()\n",
        "    elif model_architecture == 'vgg':\n",
        "        model = get_vgg16_model()\n",
        "    elif model_architecture == 'resnet':\n",
        "        model = get_resnet50_model()\n",
        "    elif model_architecture == 'googlenet':\n",
        "        model = get_googlenet_model()\n",
        "    else:\n",
        "        print(\"Invalid model architecture specified. Choose from 'cnn', 'vgg', 'resnet', or 'googlenet'.\")\n",
        "        return\n",
        "\n",
        "    model.load_state_dict(torch.load(model_path, map_location=device))\n",
        "    model.eval()\n",
        "    model.to(device)\n",
        "\n",
        "    image_transform = transforms.Compose([\n",
        "        transforms.Resize((224, 224)),\n",
        "        transforms.ToTensor(),\n",
        "        transforms.Normalize(mean=[0.485, 0.456, 0.406], std=[0.229, 0.224, 0.225])\n",
        "    ])\n",
        "\n",
        "    try:\n",
        "        image = Image.open(image_path).convert('RGB')\n",
        "    except FileNotFoundError:\n",
        "        print(f\"Error: Image not found at path '{image_path}'\")\n",
        "        return\n",
        "\n",
        "    image_tensor = image_transform(image).unsqueeze(0)\n",
        "    image_tensor = image_tensor.to(device)\n",
        "\n",
        "    with torch.no_grad():\n",
        "        outputs = model(image_tensor)\n",
        "        _, predicted_idx = torch.max(outputs, 1)\n",
        "\n",
        "    predicted_class = class_names[predicted_idx.item()]\n",
        "\n",
        "    print(f\"Model: {model_architecture.upper()}\")\n",
        "    print(f\"Image: {image_path}\")\n",
        "    print(f\"Prediction: {predicted_class}\")\n",
        "    print(\"-\" * 30)"
      ],
      "metadata": {
        "id": "Su_haby2FREi"
      },
      "execution_count": 41,
      "outputs": []
    },
    {
      "cell_type": "code",
      "source": [
        "class_names = ['paper', 'rock', 'scissors']\n",
        "\n",
        "\n",
        "predict_image('custom_cnn_model.pth', 'cnn', '/content/One.jpeg', class_names)\n",
        "predict_image('vgg16_model.pth', 'vgg', '/content/One.jpeg', class_names)\n",
        "predict_image('resnet50_model.pth', 'resnet', '/content/One.jpeg', class_names)\n",
        "predict_image('googlenet_model.pth', 'googlenet', '/content/One.jpeg', class_names)"
      ],
      "metadata": {
        "id": "jDVWVVD7E82a",
        "colab": {
          "base_uri": "https://localhost:8080/"
        },
        "outputId": "ab172976-3c40-427a-f686-042b90cff649"
      },
      "execution_count": 42,
      "outputs": [
        {
          "output_type": "stream",
          "name": "stdout",
          "text": [
            "Error: Image not found at path '/content/One.jpeg'\n",
            "Error: Image not found at path '/content/One.jpeg'\n",
            "Error: Image not found at path '/content/One.jpeg'\n",
            "Error: Image not found at path '/content/One.jpeg'\n"
          ]
        }
      ]
    },
    {
      "cell_type": "code",
      "source": [
        "!pip install -q mediapipe"
      ],
      "metadata": {
        "id": "biB6W01pRMIX",
        "colab": {
          "base_uri": "https://localhost:8080/"
        },
        "outputId": "2f13371d-17b3-4ae5-f8e5-8ca586e980e0"
      },
      "execution_count": 43,
      "outputs": [
        {
          "output_type": "stream",
          "name": "stdout",
          "text": [
            "\u001b[2K     \u001b[90m━━━━━━━━━━━━━━━━━━━━━━━━━━━━━━━━━━━━━━━━\u001b[0m \u001b[32m61.0/61.0 kB\u001b[0m \u001b[31m5.6 MB/s\u001b[0m eta \u001b[36m0:00:00\u001b[0m\n",
            "\u001b[2K   \u001b[90m━━━━━━━━━━━━━━━━━━━━━━━━━━━━━━━━━━━━━━━━\u001b[0m \u001b[32m35.6/35.6 MB\u001b[0m \u001b[31m20.4 MB/s\u001b[0m eta \u001b[36m0:00:00\u001b[0m\n",
            "\u001b[2K   \u001b[90m━━━━━━━━━━━━━━━━━━━━━━━━━━━━━━━━━━━━━━━━\u001b[0m \u001b[32m18.3/18.3 MB\u001b[0m \u001b[31m118.4 MB/s\u001b[0m eta \u001b[36m0:00:00\u001b[0m\n",
            "\u001b[2K   \u001b[90m━━━━━━━━━━━━━━━━━━━━━━━━━━━━━━━━━━━━━━━━\u001b[0m \u001b[32m294.9/294.9 kB\u001b[0m \u001b[31m29.5 MB/s\u001b[0m eta \u001b[36m0:00:00\u001b[0m\n",
            "\u001b[?25h\u001b[31mERROR: pip's dependency resolver does not currently take into account all the packages that are installed. This behaviour is the source of the following dependency conflicts.\n",
            "ydf 0.12.0 requires protobuf<6.0.0,>=5.29.1, but you have protobuf 4.25.8 which is incompatible.\n",
            "thinc 8.3.6 requires numpy<3.0.0,>=2.0.0, but you have numpy 1.26.4 which is incompatible.\n",
            "grpcio-status 1.71.0 requires protobuf<6.0dev,>=5.26.1, but you have protobuf 4.25.8 which is incompatible.\u001b[0m\u001b[31m\n",
            "\u001b[0m"
          ]
        }
      ]
    },
    {
      "cell_type": "code",
      "source": [
        "import torch\n",
        "import torch.nn as nn\n",
        "import torchvision.models as models\n",
        "from torchvision.models import VGG16_Weights\n",
        "import torchvision.transforms as transforms\n",
        "from PIL import Image\n",
        "import cv2\n",
        "import numpy as np\n",
        "from IPython.display import display, Javascript\n",
        "from google.colab.output import eval_js\n",
        "from base64 import b64decode\n",
        "from google.colab.patches import cv2_imshow\n",
        "import mediapipe as mp\n",
        "\n",
        "def get_vgg16_model():\n",
        "    model = models.vgg16(weights=VGG16_Weights.IMAGENET1K_V1)\n",
        "    for param in model.features.parameters():\n",
        "        param.requires_grad = False\n",
        "    num_features = model.classifier[-1].in_features\n",
        "    model.classifier[-1] = nn.Linear(num_features, 3)\n",
        "    return model\n",
        "\n",
        "\n",
        "device = torch.device(\"cuda\" if torch.cuda.is_available() else \"cpu\")\n",
        "\n",
        "MODEL_PATH = \"vgg16_model.pth\"\n",
        "\n",
        "model = get_vgg16_model()\n",
        "model.load_state_dict(torch.load(MODEL_PATH, map_location=device))\n",
        "model.eval()\n",
        "model.to(device)\n",
        "print(\"VGG16 model loaded successfully.\")\n",
        "\n",
        "mp_hands = mp.solutions.hands\n",
        "hands = mp_hands.Hands(static_image_mode=True, max_num_hands=1, min_detection_confidence=0.5)\n",
        "class_names = ['paper', 'rock', 'scissors']\n",
        "image_transform = transforms.Compose([\n",
        "    transforms.Resize((224, 224)),\n",
        "    transforms.ToTensor(),\n",
        "    transforms.Normalize(mean=[0.485, 0.456, 0.406], std=[0.229, 0.224, 0.225])\n",
        "])\n",
        "\n",
        "# Function to Capture and Predict a Single Photo ---\n",
        "def take_and_predict_photo(quality=0.8):\n",
        "  js = Javascript('''\n",
        "    async function takePhoto(quality) {\n",
        "      const div = document.createElement('div');\n",
        "      const capture = document.createElement('button');\n",
        "      capture.textContent = 'Capture';\n",
        "      div.appendChild(capture);\n",
        "      const video = document.createElement('video');\n",
        "      video.style.display = 'block';\n",
        "      const stream = await navigator.mediaDevices.getUserMedia({video: true});\n",
        "      document.body.appendChild(div);\n",
        "      div.appendChild(video);\n",
        "      video.srcObject = stream;\n",
        "      await video.play();\n",
        "      google.colab.output.setIframeHeight(document.documentElement.scrollHeight, true);\n",
        "      await new Promise((resolve) => capture.onclick = resolve);\n",
        "      const canvas = document.createElement('canvas');\n",
        "      canvas.width = video.videoWidth;\n",
        "      canvas.height = video.videoHeight;\n",
        "      canvas.getContext('2d').drawImage(video, 0, 0);\n",
        "      stream.getTracks().forEach(track => track.stop());\n",
        "      div.remove();\n",
        "      return canvas.toDataURL('image/jpeg', quality);\n",
        "    }\n",
        "    ''')\n",
        "  display(js)\n",
        "  data = eval_js('takePhoto({})'.format(quality))\n",
        "  binary = b64decode(data.split(',')[1])\n",
        "  nparr = np.frombuffer(binary, np.uint8)\n",
        "  frame = cv2.imdecode(nparr, cv2.IMREAD_COLOR)\n",
        "\n",
        "  # Hand Detection Logic\n",
        "  frame_rgb = cv2.cvtColor(frame, cv2.COLOR_BGR2RGB)\n",
        "  results = hands.process(frame_rgb)\n",
        "\n",
        "  prediction_text = \"No hand detected\"\n",
        "  if results.multi_hand_landmarks:\n",
        "      for hand_landmarks in results.multi_hand_landmarks:\n",
        "          h, w, _ = frame.shape\n",
        "          x_coords = [landmark.x for landmark in hand_landmarks.landmark]\n",
        "          y_coords = [landmark.y for landmark in hand_landmarks.landmark]\n",
        "          x_min, x_max = min(x_coords), max(x_coords)\n",
        "          y_min, y_max = min(y_coords), max(y_coords)\n",
        "\n",
        "          box_w = x_max - x_min\n",
        "          box_h = y_max - y_min\n",
        "          box_size = max(box_w, box_h) * 1.2\n",
        "\n",
        "          center_x = (x_min + box_w / 2) * w\n",
        "          center_y = (y_min + box_h / 2) * h\n",
        "\n",
        "          x1 = int(center_x - (box_size * w / 2))\n",
        "          y1 = int(center_y - (box_size * h / 2))\n",
        "          x2 = int(center_x + (box_size * w / 2))\n",
        "          y2 = int(center_y + (box_size * h / 2))\n",
        "\n",
        "          x1, y1 = max(0, x1), max(0, y1)\n",
        "          x2, y2 = min(w, x2), min(h, y2)\n",
        "\n",
        "          cv2.rectangle(frame, (x1, y1), (x2, y2), (0, 255, 0), 2)\n",
        "          hand_roi = frame[y1:y2, x1:x2]\n",
        "\n",
        "          if hand_roi.size > 0:\n",
        "              pil_image = Image.fromarray(cv2.cvtColor(hand_roi, cv2.COLOR_BGR2RGB))\n",
        "              image_tensor = image_transform(pil_image).unsqueeze(0).to(device)\n",
        "\n",
        "              with torch.no_grad():\n",
        "                  outputs = model(image_tensor)\n",
        "                  _, predicted_idx = torch.max(outputs, 1)\n",
        "\n",
        "              prediction_text = class_names[predicted_idx.item()]\n",
        "\n",
        "  cv2.putText(frame, f'Prediction: {prediction_text}', (10, 30), cv2.FONT_HERSHEY_SIMPLEX, 1, (0, 255, 0), 2, cv2.LINE_AA)\n",
        "  from google.colab.patches import cv2_imshow\n",
        "  cv2_imshow(frame)\n",
        "\n",
        "print(\"Starting camera... Click 'Capture' to predict.\")\n",
        "take_and_predict_photo()"
      ],
      "metadata": {
        "id": "vJ6hxr8mWFxs",
        "colab": {
          "base_uri": "https://localhost:8080/",
          "height": 356
        },
        "outputId": "ba3bbcfb-ce6b-4560-c994-b4d860dfffa8"
      },
      "execution_count": 44,
      "outputs": [
        {
          "output_type": "stream",
          "name": "stdout",
          "text": [
            "VGG16 model loaded successfully.\n",
            "Starting camera... Click 'Capture' to predict.\n"
          ]
        },
        {
          "output_type": "display_data",
          "data": {
            "text/plain": [
              "<IPython.core.display.Javascript object>"
            ],
            "application/javascript": [
              "\n",
              "    async function takePhoto(quality) {\n",
              "      const div = document.createElement('div');\n",
              "      const capture = document.createElement('button');\n",
              "      capture.textContent = 'Capture';\n",
              "      div.appendChild(capture);\n",
              "      const video = document.createElement('video');\n",
              "      video.style.display = 'block';\n",
              "      const stream = await navigator.mediaDevices.getUserMedia({video: true});\n",
              "      document.body.appendChild(div);\n",
              "      div.appendChild(video);\n",
              "      video.srcObject = stream;\n",
              "      await video.play();\n",
              "      google.colab.output.setIframeHeight(document.documentElement.scrollHeight, true);\n",
              "      await new Promise((resolve) => capture.onclick = resolve);\n",
              "      const canvas = document.createElement('canvas');\n",
              "      canvas.width = video.videoWidth;\n",
              "      canvas.height = video.videoHeight;\n",
              "      canvas.getContext('2d').drawImage(video, 0, 0);\n",
              "      stream.getTracks().forEach(track => track.stop());\n",
              "      div.remove();\n",
              "      return canvas.toDataURL('image/jpeg', quality);\n",
              "    }\n",
              "    "
            ]
          },
          "metadata": {}
        },
        {
          "output_type": "error",
          "ename": "MessageError",
          "evalue": "NotAllowedError: Permission denied",
          "traceback": [
            "\u001b[0;31m---------------------------------------------------------------------------\u001b[0m",
            "\u001b[0;31mMessageError\u001b[0m                              Traceback (most recent call last)",
            "\u001b[0;32m<ipython-input-44-686185093>\u001b[0m in \u001b[0;36m<cell line: 0>\u001b[0;34m()\u001b[0m\n\u001b[1;32m    119\u001b[0m \u001b[0;34m\u001b[0m\u001b[0m\n\u001b[1;32m    120\u001b[0m \u001b[0mprint\u001b[0m\u001b[0;34m(\u001b[0m\u001b[0;34m\"Starting camera... Click 'Capture' to predict.\"\u001b[0m\u001b[0;34m)\u001b[0m\u001b[0;34m\u001b[0m\u001b[0;34m\u001b[0m\u001b[0m\n\u001b[0;32m--> 121\u001b[0;31m \u001b[0mtake_and_predict_photo\u001b[0m\u001b[0;34m(\u001b[0m\u001b[0;34m)\u001b[0m\u001b[0;34m\u001b[0m\u001b[0;34m\u001b[0m\u001b[0m\n\u001b[0m",
            "\u001b[0;32m<ipython-input-44-686185093>\u001b[0m in \u001b[0;36mtake_and_predict_photo\u001b[0;34m(quality)\u001b[0m\n\u001b[1;32m     68\u001b[0m     ''')\n\u001b[1;32m     69\u001b[0m   \u001b[0mdisplay\u001b[0m\u001b[0;34m(\u001b[0m\u001b[0mjs\u001b[0m\u001b[0;34m)\u001b[0m\u001b[0;34m\u001b[0m\u001b[0;34m\u001b[0m\u001b[0m\n\u001b[0;32m---> 70\u001b[0;31m   \u001b[0mdata\u001b[0m \u001b[0;34m=\u001b[0m \u001b[0meval_js\u001b[0m\u001b[0;34m(\u001b[0m\u001b[0;34m'takePhoto({})'\u001b[0m\u001b[0;34m.\u001b[0m\u001b[0mformat\u001b[0m\u001b[0;34m(\u001b[0m\u001b[0mquality\u001b[0m\u001b[0;34m)\u001b[0m\u001b[0;34m)\u001b[0m\u001b[0;34m\u001b[0m\u001b[0;34m\u001b[0m\u001b[0m\n\u001b[0m\u001b[1;32m     71\u001b[0m   \u001b[0mbinary\u001b[0m \u001b[0;34m=\u001b[0m \u001b[0mb64decode\u001b[0m\u001b[0;34m(\u001b[0m\u001b[0mdata\u001b[0m\u001b[0;34m.\u001b[0m\u001b[0msplit\u001b[0m\u001b[0;34m(\u001b[0m\u001b[0;34m','\u001b[0m\u001b[0;34m)\u001b[0m\u001b[0;34m[\u001b[0m\u001b[0;36m1\u001b[0m\u001b[0;34m]\u001b[0m\u001b[0;34m)\u001b[0m\u001b[0;34m\u001b[0m\u001b[0;34m\u001b[0m\u001b[0m\n\u001b[1;32m     72\u001b[0m   \u001b[0mnparr\u001b[0m \u001b[0;34m=\u001b[0m \u001b[0mnp\u001b[0m\u001b[0;34m.\u001b[0m\u001b[0mfrombuffer\u001b[0m\u001b[0;34m(\u001b[0m\u001b[0mbinary\u001b[0m\u001b[0;34m,\u001b[0m \u001b[0mnp\u001b[0m\u001b[0;34m.\u001b[0m\u001b[0muint8\u001b[0m\u001b[0;34m)\u001b[0m\u001b[0;34m\u001b[0m\u001b[0;34m\u001b[0m\u001b[0m\n",
            "\u001b[0;32m/usr/local/lib/python3.11/dist-packages/google/colab/output/_js.py\u001b[0m in \u001b[0;36meval_js\u001b[0;34m(script, ignore_result, timeout_sec)\u001b[0m\n\u001b[1;32m     38\u001b[0m   \u001b[0;32mif\u001b[0m \u001b[0mignore_result\u001b[0m\u001b[0;34m:\u001b[0m\u001b[0;34m\u001b[0m\u001b[0;34m\u001b[0m\u001b[0m\n\u001b[1;32m     39\u001b[0m     \u001b[0;32mreturn\u001b[0m\u001b[0;34m\u001b[0m\u001b[0;34m\u001b[0m\u001b[0m\n\u001b[0;32m---> 40\u001b[0;31m   \u001b[0;32mreturn\u001b[0m \u001b[0m_message\u001b[0m\u001b[0;34m.\u001b[0m\u001b[0mread_reply_from_input\u001b[0m\u001b[0;34m(\u001b[0m\u001b[0mrequest_id\u001b[0m\u001b[0;34m,\u001b[0m \u001b[0mtimeout_sec\u001b[0m\u001b[0;34m)\u001b[0m\u001b[0;34m\u001b[0m\u001b[0;34m\u001b[0m\u001b[0m\n\u001b[0m\u001b[1;32m     41\u001b[0m \u001b[0;34m\u001b[0m\u001b[0m\n\u001b[1;32m     42\u001b[0m \u001b[0;34m\u001b[0m\u001b[0m\n",
            "\u001b[0;32m/usr/local/lib/python3.11/dist-packages/google/colab/_message.py\u001b[0m in \u001b[0;36mread_reply_from_input\u001b[0;34m(message_id, timeout_sec)\u001b[0m\n\u001b[1;32m    101\u001b[0m     ):\n\u001b[1;32m    102\u001b[0m       \u001b[0;32mif\u001b[0m \u001b[0;34m'error'\u001b[0m \u001b[0;32min\u001b[0m \u001b[0mreply\u001b[0m\u001b[0;34m:\u001b[0m\u001b[0;34m\u001b[0m\u001b[0;34m\u001b[0m\u001b[0m\n\u001b[0;32m--> 103\u001b[0;31m         \u001b[0;32mraise\u001b[0m \u001b[0mMessageError\u001b[0m\u001b[0;34m(\u001b[0m\u001b[0mreply\u001b[0m\u001b[0;34m[\u001b[0m\u001b[0;34m'error'\u001b[0m\u001b[0;34m]\u001b[0m\u001b[0;34m)\u001b[0m\u001b[0;34m\u001b[0m\u001b[0;34m\u001b[0m\u001b[0m\n\u001b[0m\u001b[1;32m    104\u001b[0m       \u001b[0;32mreturn\u001b[0m \u001b[0mreply\u001b[0m\u001b[0;34m.\u001b[0m\u001b[0mget\u001b[0m\u001b[0;34m(\u001b[0m\u001b[0;34m'data'\u001b[0m\u001b[0;34m,\u001b[0m \u001b[0;32mNone\u001b[0m\u001b[0;34m)\u001b[0m\u001b[0;34m\u001b[0m\u001b[0;34m\u001b[0m\u001b[0m\n\u001b[1;32m    105\u001b[0m \u001b[0;34m\u001b[0m\u001b[0m\n",
            "\u001b[0;31mMessageError\u001b[0m: NotAllowedError: Permission denied"
          ]
        }
      ]
    }
  ]
}